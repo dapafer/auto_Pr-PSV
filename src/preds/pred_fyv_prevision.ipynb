{
 "cells": [
  {
   "attachments": {},
   "cell_type": "markdown",
   "metadata": {},
   "source": [
    "# **CATEGORÍA FyV predictions**"
   ]
  },
  {
   "attachments": {},
   "cell_type": "markdown",
   "metadata": {},
   "source": [
    "## **Importar librerías**"
   ]
  },
  {
   "cell_type": "code",
   "execution_count": 1,
   "metadata": {},
   "outputs": [],
   "source": [
    "import warnings\n",
    "warnings.filterwarnings('ignore')\n",
    "\n",
    "import pandas as pd\n",
    "import numpy as np"
   ]
  },
  {
   "cell_type": "code",
   "execution_count": 2,
   "metadata": {},
   "outputs": [],
   "source": [
    "import holidays"
   ]
  },
  {
   "cell_type": "code",
   "execution_count": 3,
   "metadata": {},
   "outputs": [],
   "source": [
    "# facebook prophet\n",
    "from prophet import Prophet\n",
    "from prophet.plot import plot_plotly, plot_components_plotly"
   ]
  },
  {
   "attachments": {},
   "cell_type": "markdown",
   "metadata": {},
   "source": [
    "## **Cargar datos**"
   ]
  },
  {
   "cell_type": "code",
   "execution_count": 4,
   "metadata": {},
   "outputs": [],
   "source": [
    "prod_fecha_fyv = pd.read_csv('../../data/sql/venta/prod_fecha_fyv.csv')\n",
    "\n",
    "ventas_productos = pd.read_csv('../../data/ventas_productos.csv')"
   ]
  },
  {
   "cell_type": "code",
   "execution_count": 5,
   "metadata": {},
   "outputs": [
    {
     "data": {
      "text/html": [
       "<div>\n",
       "<style scoped>\n",
       "    .dataframe tbody tr th:only-of-type {\n",
       "        vertical-align: middle;\n",
       "    }\n",
       "\n",
       "    .dataframe tbody tr th {\n",
       "        vertical-align: top;\n",
       "    }\n",
       "\n",
       "    .dataframe thead th {\n",
       "        text-align: right;\n",
       "    }\n",
       "</style>\n",
       "<table border=\"1\" class=\"dataframe\">\n",
       "  <thead>\n",
       "    <tr style=\"text-align: right;\">\n",
       "      <th></th>\n",
       "      <th>fecha</th>\n",
       "      <th>dia_semana</th>\n",
       "      <th>categoria</th>\n",
       "      <th>producto</th>\n",
       "      <th>formato</th>\n",
       "      <th>venta</th>\n",
       "    </tr>\n",
       "  </thead>\n",
       "  <tbody>\n",
       "    <tr>\n",
       "      <th>0</th>\n",
       "      <td>2023-01-02</td>\n",
       "      <td>lunes</td>\n",
       "      <td>Fruta y verdura</td>\n",
       "      <td>Plátano de Canarias</td>\n",
       "      <td>Pieza 160 g aprox.</td>\n",
       "      <td>17</td>\n",
       "    </tr>\n",
       "    <tr>\n",
       "      <th>1</th>\n",
       "      <td>2023-01-02</td>\n",
       "      <td>lunes</td>\n",
       "      <td>Fruta y verdura</td>\n",
       "      <td>Banana</td>\n",
       "      <td>Pieza 170 g aprox.</td>\n",
       "      <td>23</td>\n",
       "    </tr>\n",
       "    <tr>\n",
       "      <th>2</th>\n",
       "      <td>2023-01-02</td>\n",
       "      <td>lunes</td>\n",
       "      <td>Fruta y verdura</td>\n",
       "      <td>Plátano macho</td>\n",
       "      <td>Pieza 340 g aprox.</td>\n",
       "      <td>35</td>\n",
       "    </tr>\n",
       "    <tr>\n",
       "      <th>3</th>\n",
       "      <td>2023-01-02</td>\n",
       "      <td>lunes</td>\n",
       "      <td>Fruta y verdura</td>\n",
       "      <td>Uva blanca sin semillas</td>\n",
       "      <td>Bandeja 500 g aprox.</td>\n",
       "      <td>12</td>\n",
       "    </tr>\n",
       "    <tr>\n",
       "      <th>4</th>\n",
       "      <td>2023-01-02</td>\n",
       "      <td>lunes</td>\n",
       "      <td>Fruta y verdura</td>\n",
       "      <td>Uva roja sin semillas</td>\n",
       "      <td>Bandeja 500 g aprox.</td>\n",
       "      <td>1</td>\n",
       "    </tr>\n",
       "    <tr>\n",
       "      <th>...</th>\n",
       "      <td>...</td>\n",
       "      <td>...</td>\n",
       "      <td>...</td>\n",
       "      <td>...</td>\n",
       "      <td>...</td>\n",
       "      <td>...</td>\n",
       "    </tr>\n",
       "    <tr>\n",
       "      <th>26420</th>\n",
       "      <td>2023-06-30</td>\n",
       "      <td>viernes</td>\n",
       "      <td>Fruta y verdura</td>\n",
       "      <td>Mix de verduras paisana para micro</td>\n",
       "      <td>Paquete 300 g</td>\n",
       "      <td>0</td>\n",
       "    </tr>\n",
       "    <tr>\n",
       "      <th>26421</th>\n",
       "      <td>2023-06-30</td>\n",
       "      <td>viernes</td>\n",
       "      <td>Fruta y verdura</td>\n",
       "      <td>Sopa juliana para micro</td>\n",
       "      <td>Paquete 400 g</td>\n",
       "      <td>0</td>\n",
       "    </tr>\n",
       "    <tr>\n",
       "      <th>26422</th>\n",
       "      <td>2023-06-30</td>\n",
       "      <td>viernes</td>\n",
       "      <td>Fruta y verdura</td>\n",
       "      <td>Patata para micro</td>\n",
       "      <td>Paquete 400 g</td>\n",
       "      <td>0</td>\n",
       "    </tr>\n",
       "    <tr>\n",
       "      <th>26423</th>\n",
       "      <td>2023-06-30</td>\n",
       "      <td>viernes</td>\n",
       "      <td>Fruta y verdura</td>\n",
       "      <td>Batata para micro</td>\n",
       "      <td>Paquete 400 g</td>\n",
       "      <td>0</td>\n",
       "    </tr>\n",
       "    <tr>\n",
       "      <th>26424</th>\n",
       "      <td>2023-06-30</td>\n",
       "      <td>viernes</td>\n",
       "      <td>Fruta y verdura</td>\n",
       "      <td>Mix de verduras jardinera para micro</td>\n",
       "      <td>Paquete 400 g</td>\n",
       "      <td>0</td>\n",
       "    </tr>\n",
       "  </tbody>\n",
       "</table>\n",
       "<p>26425 rows × 6 columns</p>\n",
       "</div>"
      ],
      "text/plain": [
       "            fecha dia_semana        categoria  \\\n",
       "0      2023-01-02      lunes  Fruta y verdura   \n",
       "1      2023-01-02      lunes  Fruta y verdura   \n",
       "2      2023-01-02      lunes  Fruta y verdura   \n",
       "3      2023-01-02      lunes  Fruta y verdura   \n",
       "4      2023-01-02      lunes  Fruta y verdura   \n",
       "...           ...        ...              ...   \n",
       "26420  2023-06-30    viernes  Fruta y verdura   \n",
       "26421  2023-06-30    viernes  Fruta y verdura   \n",
       "26422  2023-06-30    viernes  Fruta y verdura   \n",
       "26423  2023-06-30    viernes  Fruta y verdura   \n",
       "26424  2023-06-30    viernes  Fruta y verdura   \n",
       "\n",
       "                                   producto               formato  venta  \n",
       "0                       Plátano de Canarias    Pieza 160 g aprox.     17  \n",
       "1                                    Banana    Pieza 170 g aprox.     23  \n",
       "2                             Plátano macho    Pieza 340 g aprox.     35  \n",
       "3                   Uva blanca sin semillas  Bandeja 500 g aprox.     12  \n",
       "4                     Uva roja sin semillas  Bandeja 500 g aprox.      1  \n",
       "...                                     ...                   ...    ...  \n",
       "26420    Mix de verduras paisana para micro         Paquete 300 g      0  \n",
       "26421               Sopa juliana para micro         Paquete 400 g      0  \n",
       "26422                     Patata para micro         Paquete 400 g      0  \n",
       "26423                     Batata para micro         Paquete 400 g      0  \n",
       "26424  Mix de verduras jardinera para micro         Paquete 400 g      0  \n",
       "\n",
       "[26425 rows x 6 columns]"
      ]
     },
     "execution_count": 5,
     "metadata": {},
     "output_type": "execute_result"
    }
   ],
   "source": [
    "prod_fecha_fyv.info()"
   ]
  },
  {
   "cell_type": "code",
   "execution_count": 6,
   "metadata": {},
   "outputs": [
    {
     "name": "stdout",
     "output_type": "stream",
     "text": [
      "<class 'pandas.core.frame.DataFrame'>\n",
      "RangeIndex: 26425 entries, 0 to 26424\n",
      "Data columns (total 6 columns):\n",
      " #   Column      Non-Null Count  Dtype \n",
      "---  ------      --------------  ----- \n",
      " 0   fecha       26425 non-null  object\n",
      " 1   dia_semana  26425 non-null  object\n",
      " 2   categoria   26425 non-null  object\n",
      " 3   producto    26425 non-null  object\n",
      " 4   formato     26425 non-null  object\n",
      " 5   venta       26425 non-null  int64 \n",
      "dtypes: int64(1), object(5)\n",
      "memory usage: 1.2+ MB\n"
     ]
    }
   ],
   "source": [
    "ventas_productos.info()"
   ]
  },
  {
   "attachments": {},
   "cell_type": "markdown",
   "metadata": {},
   "source": [
    "## **Transformar datos**"
   ]
  },
  {
   "cell_type": "code",
   "execution_count": 7,
   "metadata": {},
   "outputs": [
    {
     "name": "stdout",
     "output_type": "stream",
     "text": [
      "<class 'pandas.core.frame.DataFrame'>\n",
      "RangeIndex: 26425 entries, 0 to 26424\n",
      "Data columns (total 6 columns):\n",
      " #   Column      Non-Null Count  Dtype         \n",
      "---  ------      --------------  -----         \n",
      " 0   fecha       26425 non-null  datetime64[ns]\n",
      " 1   dia_semana  26425 non-null  object        \n",
      " 2   categoria   26425 non-null  object        \n",
      " 3   producto    26425 non-null  object        \n",
      " 4   formato     26425 non-null  object        \n",
      " 5   venta       26425 non-null  int64         \n",
      "dtypes: datetime64[ns](1), int64(1), object(4)\n",
      "memory usage: 1.2+ MB\n"
     ]
    }
   ],
   "source": [
    "# cambiar columna \"fecha\" sea tipo \"datetime\"\n",
    "prod_fecha_fyv['fecha'] = pd.to_datetime(prod_fecha_fyv['fecha'])\n",
    "\n",
    "prod_fecha_fyv.info()"
   ]
  },
  {
   "cell_type": "code",
   "execution_count": 8,
   "metadata": {},
   "outputs": [
    {
     "data": {
      "text/html": [
       "<div>\n",
       "<style scoped>\n",
       "    .dataframe tbody tr th:only-of-type {\n",
       "        vertical-align: middle;\n",
       "    }\n",
       "\n",
       "    .dataframe tbody tr th {\n",
       "        vertical-align: top;\n",
       "    }\n",
       "\n",
       "    .dataframe thead th {\n",
       "        text-align: right;\n",
       "    }\n",
       "</style>\n",
       "<table border=\"1\" class=\"dataframe\">\n",
       "  <thead>\n",
       "    <tr style=\"text-align: right;\">\n",
       "      <th></th>\n",
       "      <th>fecha</th>\n",
       "      <th>dia_semana</th>\n",
       "      <th>categoria</th>\n",
       "      <th>producto</th>\n",
       "      <th>formato</th>\n",
       "      <th>venta</th>\n",
       "    </tr>\n",
       "  </thead>\n",
       "  <tbody>\n",
       "    <tr>\n",
       "      <th>0</th>\n",
       "      <td>2023-01-02</td>\n",
       "      <td>lunes</td>\n",
       "      <td>Fruta y verdura</td>\n",
       "      <td>Plátano de Canarias</td>\n",
       "      <td>Pieza 160 g aprox.</td>\n",
       "      <td>17</td>\n",
       "    </tr>\n",
       "    <tr>\n",
       "      <th>1</th>\n",
       "      <td>2023-01-02</td>\n",
       "      <td>lunes</td>\n",
       "      <td>Fruta y verdura</td>\n",
       "      <td>Banana</td>\n",
       "      <td>Pieza 170 g aprox.</td>\n",
       "      <td>23</td>\n",
       "    </tr>\n",
       "    <tr>\n",
       "      <th>2</th>\n",
       "      <td>2023-01-02</td>\n",
       "      <td>lunes</td>\n",
       "      <td>Fruta y verdura</td>\n",
       "      <td>Plátano macho</td>\n",
       "      <td>Pieza 340 g aprox.</td>\n",
       "      <td>35</td>\n",
       "    </tr>\n",
       "    <tr>\n",
       "      <th>3</th>\n",
       "      <td>2023-01-02</td>\n",
       "      <td>lunes</td>\n",
       "      <td>Fruta y verdura</td>\n",
       "      <td>Uva blanca sin semillas</td>\n",
       "      <td>Bandeja 500 g aprox.</td>\n",
       "      <td>12</td>\n",
       "    </tr>\n",
       "    <tr>\n",
       "      <th>4</th>\n",
       "      <td>2023-01-02</td>\n",
       "      <td>lunes</td>\n",
       "      <td>Fruta y verdura</td>\n",
       "      <td>Uva roja sin semillas</td>\n",
       "      <td>Bandeja 500 g aprox.</td>\n",
       "      <td>1</td>\n",
       "    </tr>\n",
       "    <tr>\n",
       "      <th>...</th>\n",
       "      <td>...</td>\n",
       "      <td>...</td>\n",
       "      <td>...</td>\n",
       "      <td>...</td>\n",
       "      <td>...</td>\n",
       "      <td>...</td>\n",
       "    </tr>\n",
       "    <tr>\n",
       "      <th>21870</th>\n",
       "      <td>2023-05-31</td>\n",
       "      <td>miércoles</td>\n",
       "      <td>Fruta y verdura</td>\n",
       "      <td>Mix de verduras paisana para micro</td>\n",
       "      <td>Paquete 300 g</td>\n",
       "      <td>31</td>\n",
       "    </tr>\n",
       "    <tr>\n",
       "      <th>21871</th>\n",
       "      <td>2023-05-31</td>\n",
       "      <td>miércoles</td>\n",
       "      <td>Fruta y verdura</td>\n",
       "      <td>Sopa juliana para micro</td>\n",
       "      <td>Paquete 400 g</td>\n",
       "      <td>18</td>\n",
       "    </tr>\n",
       "    <tr>\n",
       "      <th>21872</th>\n",
       "      <td>2023-05-31</td>\n",
       "      <td>miércoles</td>\n",
       "      <td>Fruta y verdura</td>\n",
       "      <td>Patata para micro</td>\n",
       "      <td>Paquete 400 g</td>\n",
       "      <td>35</td>\n",
       "    </tr>\n",
       "    <tr>\n",
       "      <th>21873</th>\n",
       "      <td>2023-05-31</td>\n",
       "      <td>miércoles</td>\n",
       "      <td>Fruta y verdura</td>\n",
       "      <td>Batata para micro</td>\n",
       "      <td>Paquete 400 g</td>\n",
       "      <td>30</td>\n",
       "    </tr>\n",
       "    <tr>\n",
       "      <th>21874</th>\n",
       "      <td>2023-05-31</td>\n",
       "      <td>miércoles</td>\n",
       "      <td>Fruta y verdura</td>\n",
       "      <td>Mix de verduras jardinera para micro</td>\n",
       "      <td>Paquete 400 g</td>\n",
       "      <td>18</td>\n",
       "    </tr>\n",
       "  </tbody>\n",
       "</table>\n",
       "<p>21875 rows × 6 columns</p>\n",
       "</div>"
      ],
      "text/plain": [
       "           fecha dia_semana        categoria  \\\n",
       "0     2023-01-02      lunes  Fruta y verdura   \n",
       "1     2023-01-02      lunes  Fruta y verdura   \n",
       "2     2023-01-02      lunes  Fruta y verdura   \n",
       "3     2023-01-02      lunes  Fruta y verdura   \n",
       "4     2023-01-02      lunes  Fruta y verdura   \n",
       "...          ...        ...              ...   \n",
       "21870 2023-05-31  miércoles  Fruta y verdura   \n",
       "21871 2023-05-31  miércoles  Fruta y verdura   \n",
       "21872 2023-05-31  miércoles  Fruta y verdura   \n",
       "21873 2023-05-31  miércoles  Fruta y verdura   \n",
       "21874 2023-05-31  miércoles  Fruta y verdura   \n",
       "\n",
       "                                   producto               formato  venta  \n",
       "0                       Plátano de Canarias    Pieza 160 g aprox.     17  \n",
       "1                                    Banana    Pieza 170 g aprox.     23  \n",
       "2                             Plátano macho    Pieza 340 g aprox.     35  \n",
       "3                   Uva blanca sin semillas  Bandeja 500 g aprox.     12  \n",
       "4                     Uva roja sin semillas  Bandeja 500 g aprox.      1  \n",
       "...                                     ...                   ...    ...  \n",
       "21870    Mix de verduras paisana para micro         Paquete 300 g     31  \n",
       "21871               Sopa juliana para micro         Paquete 400 g     18  \n",
       "21872                     Patata para micro         Paquete 400 g     35  \n",
       "21873                     Batata para micro         Paquete 400 g     30  \n",
       "21874  Mix de verduras jardinera para micro         Paquete 400 g     18  \n",
       "\n",
       "[21875 rows x 6 columns]"
      ]
     },
     "execution_count": 8,
     "metadata": {},
     "output_type": "execute_result"
    }
   ],
   "source": [
    "# definir rango de fechas\n",
    "fecha_inicio = pd.to_datetime('2023-06-01')\n",
    "fecha_fin = pd.to_datetime('2023-06-30')\n",
    "\n",
    "# eliminar filas dentro de rango de fechas\n",
    "prod_fecha_fyv = prod_fecha_fyv[~((prod_fecha_fyv['fecha'] >= fecha_inicio) & (prod_fecha_fyv['fecha'] <= fecha_fin))]\n",
    "\n",
    "prod_fecha_fyv"
   ]
  },
  {
   "cell_type": "code",
   "execution_count": 9,
   "metadata": {},
   "outputs": [],
   "source": [
    "# generar nueva columna con nombre único para cada combinación de producto y formato\n",
    "prod_fecha_fyv['producto_formato'] = prod_fecha_fyv['producto'] + '_' + prod_fecha_fyv['formato']\n",
    "\n",
    "# obtener lista única de nombres de producto en \"prod_fecha_fyv\"\n",
    "nombres_productos = prod_fecha_fyv['producto_formato'].unique()\n",
    "\n",
    "# generar diccionario para almacenar dataframes separados por \"producto_formato\"\n",
    "dfs_productos = {}\n",
    "\n",
    "# recorrer lista \"nombres_productos\" y filtrar \"prod_fecha_fyv\" por cada nombre\n",
    "for producto_formato in nombres_productos:\n",
    "    df_producto = prod_fecha_fyv[prod_fecha_fyv['producto_formato'] == producto_formato].copy()\n",
    "\n",
    "     # reiniciar índice subdataframe\n",
    "    df_producto.reset_index(drop=True, inplace=True)\n",
    "\n",
    "    dfs_productos[producto_formato] = df_producto"
   ]
  },
  {
   "attachments": {},
   "cell_type": "markdown",
   "metadata": {},
   "source": [
    "## **Predicciones**"
   ]
  },
  {
   "attachments": {},
   "cell_type": "markdown",
   "metadata": {},
   "source": [
    "### **Prophet**"
   ]
  },
  {
   "cell_type": "code",
   "execution_count": 10,
   "metadata": {},
   "outputs": [],
   "source": [
    "# realizar función para generar predicciones de venta futuras para cada producto\n",
    "def preds_prophet(subdf_producto):\n",
    "    # crear objeto de Prophet\n",
    "    m = Prophet()\n",
    "\n",
    "    # renombrar columnas requeridas para aplicar Prophet (\"ds\" para columna \"fecha\", \"y\" para columna de \"venta\")\n",
    "    df_prophet = subdf_producto[['fecha', 'venta']].rename(columns={'fecha' : 'ds', 'venta' : 'y'})\n",
    "\n",
    "    # ajustar modelo Prophet\n",
    "    m.fit(df_prophet)\n",
    "\n",
    "    # generar predicciones para 30 días adicionales\n",
    "    futuras_fechas = m.make_future_dataframe(periods=30)\n",
    "    predicciones = m.predict(futuras_fechas)\n",
    "\n",
    "    return predicciones"
   ]
  },
  {
   "cell_type": "code",
   "execution_count": 11,
   "metadata": {},
   "outputs": [
    {
     "name": "stderr",
     "output_type": "stream",
     "text": [
      "00:23:40 - cmdstanpy - INFO - Chain [1] start processing\n",
      "00:23:41 - cmdstanpy - INFO - Chain [1] done processing\n",
      "00:23:41 - cmdstanpy - INFO - Chain [1] start processing\n",
      "00:23:41 - cmdstanpy - INFO - Chain [1] done processing\n",
      "00:23:41 - cmdstanpy - INFO - Chain [1] start processing\n",
      "00:23:41 - cmdstanpy - INFO - Chain [1] done processing\n",
      "00:23:41 - cmdstanpy - INFO - Chain [1] start processing\n",
      "00:23:41 - cmdstanpy - INFO - Chain [1] done processing\n",
      "00:23:41 - cmdstanpy - INFO - Chain [1] start processing\n",
      "00:23:41 - cmdstanpy - INFO - Chain [1] done processing\n",
      "00:23:41 - cmdstanpy - INFO - Chain [1] start processing\n",
      "00:23:41 - cmdstanpy - INFO - Chain [1] done processing\n",
      "00:23:41 - cmdstanpy - INFO - Chain [1] start processing\n",
      "00:23:41 - cmdstanpy - INFO - Chain [1] done processing\n",
      "00:23:41 - cmdstanpy - INFO - Chain [1] start processing\n",
      "00:23:41 - cmdstanpy - INFO - Chain [1] done processing\n",
      "00:23:41 - cmdstanpy - INFO - Chain [1] start processing\n",
      "00:23:41 - cmdstanpy - INFO - Chain [1] done processing\n",
      "00:23:42 - cmdstanpy - INFO - Chain [1] start processing\n",
      "00:23:42 - cmdstanpy - INFO - Chain [1] done processing\n",
      "00:23:42 - cmdstanpy - INFO - Chain [1] start processing\n",
      "00:23:42 - cmdstanpy - INFO - Chain [1] done processing\n",
      "00:23:42 - cmdstanpy - INFO - Chain [1] start processing\n",
      "00:23:42 - cmdstanpy - INFO - Chain [1] done processing\n",
      "00:23:42 - cmdstanpy - INFO - Chain [1] start processing\n",
      "00:23:42 - cmdstanpy - INFO - Chain [1] done processing\n",
      "00:23:42 - cmdstanpy - INFO - Chain [1] start processing\n",
      "00:23:42 - cmdstanpy - INFO - Chain [1] done processing\n",
      "00:23:42 - cmdstanpy - INFO - Chain [1] start processing\n",
      "00:23:42 - cmdstanpy - INFO - Chain [1] done processing\n",
      "00:23:42 - cmdstanpy - INFO - Chain [1] start processing\n",
      "00:23:42 - cmdstanpy - INFO - Chain [1] done processing\n",
      "00:23:42 - cmdstanpy - INFO - Chain [1] start processing\n",
      "00:23:42 - cmdstanpy - INFO - Chain [1] done processing\n",
      "00:23:43 - cmdstanpy - INFO - Chain [1] start processing\n",
      "00:23:43 - cmdstanpy - INFO - Chain [1] done processing\n",
      "00:23:43 - cmdstanpy - INFO - Chain [1] start processing\n",
      "00:23:43 - cmdstanpy - INFO - Chain [1] done processing\n",
      "00:23:43 - cmdstanpy - INFO - Chain [1] start processing\n",
      "00:23:43 - cmdstanpy - INFO - Chain [1] done processing\n",
      "00:23:43 - cmdstanpy - INFO - Chain [1] start processing\n",
      "00:23:43 - cmdstanpy - INFO - Chain [1] done processing\n",
      "00:23:43 - cmdstanpy - INFO - Chain [1] start processing\n",
      "00:23:43 - cmdstanpy - INFO - Chain [1] done processing\n",
      "00:23:43 - cmdstanpy - INFO - Chain [1] start processing\n",
      "00:23:43 - cmdstanpy - INFO - Chain [1] done processing\n",
      "00:23:43 - cmdstanpy - INFO - Chain [1] start processing\n",
      "00:23:43 - cmdstanpy - INFO - Chain [1] done processing\n",
      "00:23:43 - cmdstanpy - INFO - Chain [1] start processing\n",
      "00:23:43 - cmdstanpy - INFO - Chain [1] done processing\n",
      "00:23:43 - cmdstanpy - INFO - Chain [1] start processing\n",
      "00:23:43 - cmdstanpy - INFO - Chain [1] done processing\n",
      "00:23:43 - cmdstanpy - INFO - Chain [1] start processing\n",
      "00:23:44 - cmdstanpy - INFO - Chain [1] done processing\n",
      "00:23:44 - cmdstanpy - INFO - Chain [1] start processing\n",
      "00:23:44 - cmdstanpy - INFO - Chain [1] done processing\n",
      "00:23:44 - cmdstanpy - INFO - Chain [1] start processing\n",
      "00:23:44 - cmdstanpy - INFO - Chain [1] done processing\n",
      "00:23:44 - cmdstanpy - INFO - Chain [1] start processing\n",
      "00:23:44 - cmdstanpy - INFO - Chain [1] done processing\n",
      "00:23:44 - cmdstanpy - INFO - Chain [1] start processing\n",
      "00:23:44 - cmdstanpy - INFO - Chain [1] done processing\n",
      "00:23:44 - cmdstanpy - INFO - Chain [1] start processing\n",
      "00:23:44 - cmdstanpy - INFO - Chain [1] done processing\n",
      "00:23:44 - cmdstanpy - INFO - Chain [1] start processing\n",
      "00:23:44 - cmdstanpy - INFO - Chain [1] done processing\n",
      "00:23:44 - cmdstanpy - INFO - Chain [1] start processing\n",
      "00:23:44 - cmdstanpy - INFO - Chain [1] done processing\n",
      "00:23:44 - cmdstanpy - INFO - Chain [1] start processing\n",
      "00:23:44 - cmdstanpy - INFO - Chain [1] done processing\n",
      "00:23:44 - cmdstanpy - INFO - Chain [1] start processing\n",
      "00:23:44 - cmdstanpy - INFO - Chain [1] done processing\n",
      "00:23:45 - cmdstanpy - INFO - Chain [1] start processing\n",
      "00:23:45 - cmdstanpy - INFO - Chain [1] done processing\n",
      "00:23:45 - cmdstanpy - INFO - Chain [1] start processing\n",
      "00:23:45 - cmdstanpy - INFO - Chain [1] done processing\n",
      "00:23:45 - cmdstanpy - INFO - Chain [1] start processing\n",
      "00:23:45 - cmdstanpy - INFO - Chain [1] done processing\n",
      "00:23:45 - cmdstanpy - INFO - Chain [1] start processing\n",
      "00:23:45 - cmdstanpy - INFO - Chain [1] done processing\n",
      "00:23:45 - cmdstanpy - INFO - Chain [1] start processing\n",
      "00:23:45 - cmdstanpy - INFO - Chain [1] done processing\n",
      "00:23:45 - cmdstanpy - INFO - Chain [1] start processing\n",
      "00:23:45 - cmdstanpy - INFO - Chain [1] done processing\n",
      "00:23:45 - cmdstanpy - INFO - Chain [1] start processing\n",
      "00:23:45 - cmdstanpy - INFO - Chain [1] done processing\n",
      "00:23:45 - cmdstanpy - INFO - Chain [1] start processing\n",
      "00:23:45 - cmdstanpy - INFO - Chain [1] done processing\n",
      "00:23:45 - cmdstanpy - INFO - Chain [1] start processing\n",
      "00:23:45 - cmdstanpy - INFO - Chain [1] done processing\n",
      "00:23:45 - cmdstanpy - INFO - Chain [1] start processing\n",
      "00:23:45 - cmdstanpy - INFO - Chain [1] done processing\n",
      "00:23:46 - cmdstanpy - INFO - Chain [1] start processing\n",
      "00:23:46 - cmdstanpy - INFO - Chain [1] done processing\n",
      "00:23:46 - cmdstanpy - INFO - Chain [1] start processing\n",
      "00:23:46 - cmdstanpy - INFO - Chain [1] done processing\n",
      "00:23:46 - cmdstanpy - INFO - Chain [1] start processing\n",
      "00:23:46 - cmdstanpy - INFO - Chain [1] done processing\n",
      "00:23:46 - cmdstanpy - INFO - Chain [1] start processing\n",
      "00:23:46 - cmdstanpy - INFO - Chain [1] done processing\n",
      "00:23:46 - cmdstanpy - INFO - Chain [1] start processing\n",
      "00:23:46 - cmdstanpy - INFO - Chain [1] done processing\n",
      "00:23:46 - cmdstanpy - INFO - Chain [1] start processing\n",
      "00:23:46 - cmdstanpy - INFO - Chain [1] done processing\n",
      "00:23:46 - cmdstanpy - INFO - Chain [1] start processing\n",
      "00:23:46 - cmdstanpy - INFO - Chain [1] done processing\n",
      "00:23:46 - cmdstanpy - INFO - Chain [1] start processing\n",
      "00:23:46 - cmdstanpy - INFO - Chain [1] done processing\n",
      "00:23:46 - cmdstanpy - INFO - Chain [1] start processing\n",
      "00:23:46 - cmdstanpy - INFO - Chain [1] done processing\n",
      "00:23:47 - cmdstanpy - INFO - Chain [1] start processing\n",
      "00:23:47 - cmdstanpy - INFO - Chain [1] done processing\n",
      "00:23:47 - cmdstanpy - INFO - Chain [1] start processing\n",
      "00:23:47 - cmdstanpy - INFO - Chain [1] done processing\n",
      "00:23:47 - cmdstanpy - INFO - Chain [1] start processing\n",
      "00:23:47 - cmdstanpy - INFO - Chain [1] done processing\n",
      "00:23:47 - cmdstanpy - INFO - Chain [1] start processing\n",
      "00:23:47 - cmdstanpy - INFO - Chain [1] done processing\n",
      "00:23:47 - cmdstanpy - INFO - Chain [1] start processing\n",
      "00:23:47 - cmdstanpy - INFO - Chain [1] done processing\n",
      "00:23:47 - cmdstanpy - INFO - Chain [1] start processing\n",
      "00:23:47 - cmdstanpy - INFO - Chain [1] done processing\n",
      "00:23:47 - cmdstanpy - INFO - Chain [1] start processing\n",
      "00:23:47 - cmdstanpy - INFO - Chain [1] done processing\n",
      "00:23:47 - cmdstanpy - INFO - Chain [1] start processing\n",
      "00:23:47 - cmdstanpy - INFO - Chain [1] done processing\n",
      "00:23:47 - cmdstanpy - INFO - Chain [1] start processing\n",
      "00:23:47 - cmdstanpy - INFO - Chain [1] done processing\n",
      "00:23:47 - cmdstanpy - INFO - Chain [1] start processing\n",
      "00:23:47 - cmdstanpy - INFO - Chain [1] done processing\n",
      "00:23:48 - cmdstanpy - INFO - Chain [1] start processing\n",
      "00:23:48 - cmdstanpy - INFO - Chain [1] done processing\n",
      "00:23:48 - cmdstanpy - INFO - Chain [1] start processing\n",
      "00:23:48 - cmdstanpy - INFO - Chain [1] done processing\n",
      "00:23:48 - cmdstanpy - INFO - Chain [1] start processing\n",
      "00:23:48 - cmdstanpy - INFO - Chain [1] done processing\n",
      "00:23:48 - cmdstanpy - INFO - Chain [1] start processing\n",
      "00:23:48 - cmdstanpy - INFO - Chain [1] done processing\n",
      "00:23:48 - cmdstanpy - INFO - Chain [1] start processing\n",
      "00:23:48 - cmdstanpy - INFO - Chain [1] done processing\n",
      "00:23:48 - cmdstanpy - INFO - Chain [1] start processing\n",
      "00:23:48 - cmdstanpy - INFO - Chain [1] done processing\n",
      "00:23:48 - cmdstanpy - INFO - Chain [1] start processing\n",
      "00:23:48 - cmdstanpy - INFO - Chain [1] done processing\n",
      "00:23:48 - cmdstanpy - INFO - Chain [1] start processing\n",
      "00:23:48 - cmdstanpy - INFO - Chain [1] done processing\n",
      "00:23:48 - cmdstanpy - INFO - Chain [1] start processing\n",
      "00:23:48 - cmdstanpy - INFO - Chain [1] done processing\n",
      "00:23:48 - cmdstanpy - INFO - Chain [1] start processing\n",
      "00:23:48 - cmdstanpy - INFO - Chain [1] done processing\n",
      "00:23:49 - cmdstanpy - INFO - Chain [1] start processing\n",
      "00:23:49 - cmdstanpy - INFO - Chain [1] done processing\n",
      "00:23:49 - cmdstanpy - INFO - Chain [1] start processing\n",
      "00:23:49 - cmdstanpy - INFO - Chain [1] done processing\n",
      "00:23:49 - cmdstanpy - INFO - Chain [1] start processing\n",
      "00:23:49 - cmdstanpy - INFO - Chain [1] done processing\n",
      "00:23:49 - cmdstanpy - INFO - Chain [1] start processing\n",
      "00:23:49 - cmdstanpy - INFO - Chain [1] done processing\n",
      "00:23:49 - cmdstanpy - INFO - Chain [1] start processing\n",
      "00:23:49 - cmdstanpy - INFO - Chain [1] done processing\n",
      "00:23:49 - cmdstanpy - INFO - Chain [1] start processing\n",
      "00:23:49 - cmdstanpy - INFO - Chain [1] done processing\n",
      "00:23:49 - cmdstanpy - INFO - Chain [1] start processing\n",
      "00:23:49 - cmdstanpy - INFO - Chain [1] done processing\n",
      "00:23:49 - cmdstanpy - INFO - Chain [1] start processing\n",
      "00:23:49 - cmdstanpy - INFO - Chain [1] done processing\n",
      "00:23:49 - cmdstanpy - INFO - Chain [1] start processing\n",
      "00:23:49 - cmdstanpy - INFO - Chain [1] done processing\n",
      "00:23:49 - cmdstanpy - INFO - Chain [1] start processing\n",
      "00:23:49 - cmdstanpy - INFO - Chain [1] done processing\n",
      "00:23:50 - cmdstanpy - INFO - Chain [1] start processing\n",
      "00:23:50 - cmdstanpy - INFO - Chain [1] done processing\n",
      "00:23:50 - cmdstanpy - INFO - Chain [1] start processing\n",
      "00:23:50 - cmdstanpy - INFO - Chain [1] done processing\n",
      "00:23:50 - cmdstanpy - INFO - Chain [1] start processing\n",
      "00:23:50 - cmdstanpy - INFO - Chain [1] done processing\n",
      "00:23:50 - cmdstanpy - INFO - Chain [1] start processing\n",
      "00:23:50 - cmdstanpy - INFO - Chain [1] done processing\n",
      "00:23:50 - cmdstanpy - INFO - Chain [1] start processing\n",
      "00:23:50 - cmdstanpy - INFO - Chain [1] done processing\n",
      "00:23:50 - cmdstanpy - INFO - Chain [1] start processing\n",
      "00:23:50 - cmdstanpy - INFO - Chain [1] done processing\n",
      "00:23:50 - cmdstanpy - INFO - Chain [1] start processing\n",
      "00:23:50 - cmdstanpy - INFO - Chain [1] done processing\n",
      "00:23:50 - cmdstanpy - INFO - Chain [1] start processing\n",
      "00:23:50 - cmdstanpy - INFO - Chain [1] done processing\n",
      "00:23:50 - cmdstanpy - INFO - Chain [1] start processing\n",
      "00:23:50 - cmdstanpy - INFO - Chain [1] done processing\n",
      "00:23:50 - cmdstanpy - INFO - Chain [1] start processing\n",
      "00:23:51 - cmdstanpy - INFO - Chain [1] done processing\n",
      "00:23:51 - cmdstanpy - INFO - Chain [1] start processing\n",
      "00:23:51 - cmdstanpy - INFO - Chain [1] done processing\n",
      "00:23:51 - cmdstanpy - INFO - Chain [1] start processing\n",
      "00:23:51 - cmdstanpy - INFO - Chain [1] done processing\n",
      "00:23:51 - cmdstanpy - INFO - Chain [1] start processing\n",
      "00:23:51 - cmdstanpy - INFO - Chain [1] done processing\n",
      "00:23:51 - cmdstanpy - INFO - Chain [1] start processing\n",
      "00:23:51 - cmdstanpy - INFO - Chain [1] done processing\n",
      "00:23:51 - cmdstanpy - INFO - Chain [1] start processing\n",
      "00:23:51 - cmdstanpy - INFO - Chain [1] done processing\n",
      "00:23:51 - cmdstanpy - INFO - Chain [1] start processing\n",
      "00:23:51 - cmdstanpy - INFO - Chain [1] done processing\n",
      "00:23:51 - cmdstanpy - INFO - Chain [1] start processing\n",
      "00:23:51 - cmdstanpy - INFO - Chain [1] done processing\n",
      "00:23:51 - cmdstanpy - INFO - Chain [1] start processing\n",
      "00:23:51 - cmdstanpy - INFO - Chain [1] done processing\n",
      "00:23:51 - cmdstanpy - INFO - Chain [1] start processing\n",
      "00:23:51 - cmdstanpy - INFO - Chain [1] done processing\n",
      "00:23:52 - cmdstanpy - INFO - Chain [1] start processing\n",
      "00:23:52 - cmdstanpy - INFO - Chain [1] done processing\n",
      "00:23:52 - cmdstanpy - INFO - Chain [1] start processing\n",
      "00:23:52 - cmdstanpy - INFO - Chain [1] done processing\n",
      "00:23:52 - cmdstanpy - INFO - Chain [1] start processing\n",
      "00:23:52 - cmdstanpy - INFO - Chain [1] done processing\n",
      "00:23:52 - cmdstanpy - INFO - Chain [1] start processing\n",
      "00:23:52 - cmdstanpy - INFO - Chain [1] done processing\n",
      "00:23:52 - cmdstanpy - INFO - Chain [1] start processing\n",
      "00:23:52 - cmdstanpy - INFO - Chain [1] done processing\n",
      "00:23:52 - cmdstanpy - INFO - Chain [1] start processing\n",
      "00:23:52 - cmdstanpy - INFO - Chain [1] done processing\n",
      "00:23:52 - cmdstanpy - INFO - Chain [1] start processing\n",
      "00:23:52 - cmdstanpy - INFO - Chain [1] done processing\n",
      "00:23:52 - cmdstanpy - INFO - Chain [1] start processing\n",
      "00:23:52 - cmdstanpy - INFO - Chain [1] done processing\n",
      "00:23:52 - cmdstanpy - INFO - Chain [1] start processing\n",
      "00:23:52 - cmdstanpy - INFO - Chain [1] done processing\n",
      "00:23:52 - cmdstanpy - INFO - Chain [1] start processing\n",
      "00:23:52 - cmdstanpy - INFO - Chain [1] done processing\n",
      "00:23:53 - cmdstanpy - INFO - Chain [1] start processing\n",
      "00:23:53 - cmdstanpy - INFO - Chain [1] done processing\n",
      "00:23:53 - cmdstanpy - INFO - Chain [1] start processing\n",
      "00:23:53 - cmdstanpy - INFO - Chain [1] done processing\n",
      "00:23:53 - cmdstanpy - INFO - Chain [1] start processing\n",
      "00:23:53 - cmdstanpy - INFO - Chain [1] done processing\n",
      "00:23:53 - cmdstanpy - INFO - Chain [1] start processing\n",
      "00:23:53 - cmdstanpy - INFO - Chain [1] done processing\n",
      "00:23:53 - cmdstanpy - INFO - Chain [1] start processing\n",
      "00:23:53 - cmdstanpy - INFO - Chain [1] done processing\n",
      "00:23:53 - cmdstanpy - INFO - Chain [1] start processing\n",
      "00:23:53 - cmdstanpy - INFO - Chain [1] done processing\n",
      "00:23:53 - cmdstanpy - INFO - Chain [1] start processing\n",
      "00:23:53 - cmdstanpy - INFO - Chain [1] done processing\n",
      "00:23:53 - cmdstanpy - INFO - Chain [1] start processing\n",
      "00:23:53 - cmdstanpy - INFO - Chain [1] done processing\n",
      "00:23:53 - cmdstanpy - INFO - Chain [1] start processing\n",
      "00:23:53 - cmdstanpy - INFO - Chain [1] done processing\n",
      "00:23:53 - cmdstanpy - INFO - Chain [1] start processing\n",
      "00:23:53 - cmdstanpy - INFO - Chain [1] done processing\n",
      "00:23:54 - cmdstanpy - INFO - Chain [1] start processing\n",
      "00:23:54 - cmdstanpy - INFO - Chain [1] done processing\n",
      "00:23:54 - cmdstanpy - INFO - Chain [1] start processing\n",
      "00:23:54 - cmdstanpy - INFO - Chain [1] done processing\n",
      "00:23:54 - cmdstanpy - INFO - Chain [1] start processing\n",
      "00:23:54 - cmdstanpy - INFO - Chain [1] done processing\n",
      "00:23:54 - cmdstanpy - INFO - Chain [1] start processing\n",
      "00:23:54 - cmdstanpy - INFO - Chain [1] done processing\n",
      "00:23:54 - cmdstanpy - INFO - Chain [1] start processing\n",
      "00:23:54 - cmdstanpy - INFO - Chain [1] done processing\n",
      "00:23:54 - cmdstanpy - INFO - Chain [1] start processing\n",
      "00:23:54 - cmdstanpy - INFO - Chain [1] done processing\n",
      "00:23:54 - cmdstanpy - INFO - Chain [1] start processing\n",
      "00:23:54 - cmdstanpy - INFO - Chain [1] done processing\n",
      "00:23:54 - cmdstanpy - INFO - Chain [1] start processing\n",
      "00:23:54 - cmdstanpy - INFO - Chain [1] done processing\n",
      "00:23:54 - cmdstanpy - INFO - Chain [1] start processing\n",
      "00:23:54 - cmdstanpy - INFO - Chain [1] done processing\n",
      "00:23:54 - cmdstanpy - INFO - Chain [1] start processing\n",
      "00:23:54 - cmdstanpy - INFO - Chain [1] done processing\n",
      "00:23:55 - cmdstanpy - INFO - Chain [1] start processing\n",
      "00:23:55 - cmdstanpy - INFO - Chain [1] done processing\n",
      "00:23:55 - cmdstanpy - INFO - Chain [1] start processing\n",
      "00:23:55 - cmdstanpy - INFO - Chain [1] done processing\n",
      "00:23:55 - cmdstanpy - INFO - Chain [1] start processing\n",
      "00:23:55 - cmdstanpy - INFO - Chain [1] done processing\n",
      "00:23:55 - cmdstanpy - INFO - Chain [1] start processing\n",
      "00:23:55 - cmdstanpy - INFO - Chain [1] done processing\n",
      "00:23:55 - cmdstanpy - INFO - Chain [1] start processing\n",
      "00:23:55 - cmdstanpy - INFO - Chain [1] done processing\n",
      "00:23:55 - cmdstanpy - INFO - Chain [1] start processing\n",
      "00:23:55 - cmdstanpy - INFO - Chain [1] done processing\n",
      "00:23:55 - cmdstanpy - INFO - Chain [1] start processing\n",
      "00:23:55 - cmdstanpy - INFO - Chain [1] done processing\n",
      "00:23:55 - cmdstanpy - INFO - Chain [1] start processing\n",
      "00:23:55 - cmdstanpy - INFO - Chain [1] done processing\n",
      "00:23:55 - cmdstanpy - INFO - Chain [1] start processing\n",
      "00:23:55 - cmdstanpy - INFO - Chain [1] done processing\n",
      "00:23:55 - cmdstanpy - INFO - Chain [1] start processing\n",
      "00:23:56 - cmdstanpy - INFO - Chain [1] done processing\n",
      "00:23:56 - cmdstanpy - INFO - Chain [1] start processing\n",
      "00:23:56 - cmdstanpy - INFO - Chain [1] done processing\n",
      "00:23:56 - cmdstanpy - INFO - Chain [1] start processing\n",
      "00:23:56 - cmdstanpy - INFO - Chain [1] done processing\n",
      "00:23:56 - cmdstanpy - INFO - Chain [1] start processing\n",
      "00:23:56 - cmdstanpy - INFO - Chain [1] done processing\n",
      "00:23:56 - cmdstanpy - INFO - Chain [1] start processing\n",
      "00:23:56 - cmdstanpy - INFO - Chain [1] done processing\n",
      "00:23:56 - cmdstanpy - INFO - Chain [1] start processing\n",
      "00:23:56 - cmdstanpy - INFO - Chain [1] done processing\n",
      "00:23:56 - cmdstanpy - INFO - Chain [1] start processing\n",
      "00:23:56 - cmdstanpy - INFO - Chain [1] done processing\n",
      "00:23:56 - cmdstanpy - INFO - Chain [1] start processing\n",
      "00:23:56 - cmdstanpy - INFO - Chain [1] done processing\n",
      "00:23:56 - cmdstanpy - INFO - Chain [1] start processing\n",
      "00:23:56 - cmdstanpy - INFO - Chain [1] done processing\n",
      "00:23:56 - cmdstanpy - INFO - Chain [1] start processing\n",
      "00:23:56 - cmdstanpy - INFO - Chain [1] done processing\n",
      "00:23:57 - cmdstanpy - INFO - Chain [1] start processing\n",
      "00:23:57 - cmdstanpy - INFO - Chain [1] done processing\n",
      "00:23:57 - cmdstanpy - INFO - Chain [1] start processing\n",
      "00:23:57 - cmdstanpy - INFO - Chain [1] done processing\n",
      "00:23:57 - cmdstanpy - INFO - Chain [1] start processing\n",
      "00:23:57 - cmdstanpy - INFO - Chain [1] done processing\n",
      "00:23:57 - cmdstanpy - INFO - Chain [1] start processing\n",
      "00:23:57 - cmdstanpy - INFO - Chain [1] done processing\n",
      "00:23:57 - cmdstanpy - INFO - Chain [1] start processing\n",
      "00:23:57 - cmdstanpy - INFO - Chain [1] done processing\n",
      "00:23:57 - cmdstanpy - INFO - Chain [1] start processing\n",
      "00:23:57 - cmdstanpy - INFO - Chain [1] done processing\n",
      "00:23:57 - cmdstanpy - INFO - Chain [1] start processing\n",
      "00:23:57 - cmdstanpy - INFO - Chain [1] done processing\n",
      "00:23:57 - cmdstanpy - INFO - Chain [1] start processing\n",
      "00:23:57 - cmdstanpy - INFO - Chain [1] done processing\n",
      "00:23:57 - cmdstanpy - INFO - Chain [1] start processing\n",
      "00:23:57 - cmdstanpy - INFO - Chain [1] done processing\n",
      "00:23:57 - cmdstanpy - INFO - Chain [1] start processing\n",
      "00:23:57 - cmdstanpy - INFO - Chain [1] done processing\n",
      "00:23:58 - cmdstanpy - INFO - Chain [1] start processing\n",
      "00:23:58 - cmdstanpy - INFO - Chain [1] done processing\n",
      "00:23:58 - cmdstanpy - INFO - Chain [1] start processing\n",
      "00:23:58 - cmdstanpy - INFO - Chain [1] done processing\n",
      "00:23:58 - cmdstanpy - INFO - Chain [1] start processing\n",
      "00:23:58 - cmdstanpy - INFO - Chain [1] done processing\n",
      "00:23:58 - cmdstanpy - INFO - Chain [1] start processing\n",
      "00:23:58 - cmdstanpy - INFO - Chain [1] done processing\n",
      "00:23:58 - cmdstanpy - INFO - Chain [1] start processing\n",
      "00:23:58 - cmdstanpy - INFO - Chain [1] done processing\n",
      "00:23:58 - cmdstanpy - INFO - Chain [1] start processing\n",
      "00:23:58 - cmdstanpy - INFO - Chain [1] done processing\n",
      "00:23:58 - cmdstanpy - INFO - Chain [1] start processing\n",
      "00:23:58 - cmdstanpy - INFO - Chain [1] done processing\n",
      "00:23:58 - cmdstanpy - INFO - Chain [1] start processing\n",
      "00:23:58 - cmdstanpy - INFO - Chain [1] done processing\n",
      "00:23:58 - cmdstanpy - INFO - Chain [1] start processing\n",
      "00:23:58 - cmdstanpy - INFO - Chain [1] done processing\n",
      "00:23:59 - cmdstanpy - INFO - Chain [1] start processing\n",
      "00:23:59 - cmdstanpy - INFO - Chain [1] done processing\n",
      "00:23:59 - cmdstanpy - INFO - Chain [1] start processing\n",
      "00:23:59 - cmdstanpy - INFO - Chain [1] done processing\n",
      "00:23:59 - cmdstanpy - INFO - Chain [1] start processing\n",
      "00:23:59 - cmdstanpy - INFO - Chain [1] done processing\n"
     ]
    }
   ],
   "source": [
    "# generar diccionario para almacenar dataframes con predicciones separados por \"producto_formato\"\n",
    "preds_productos = {}\n",
    "\n",
    "# recorrer lista \"nombres_productos\" y filtrar \"prod_fecha_fyv\" por cada nombre\n",
    "for producto_formato, subdf_producto in dfs_productos.items():\n",
    "    predicciones = preds_prophet(subdf_producto)\n",
    "    preds_productos[producto_formato] = predicciones"
   ]
  },
  {
   "cell_type": "code",
   "execution_count": 12,
   "metadata": {},
   "outputs": [],
   "source": [
    "cols_objetivo = [\"ds\", \"yhat\"]\n",
    "preds_final = {}\n",
    "\n",
    "for producto_formato, predicciones in preds_productos.items():\n",
    "    predicciones_seleccionadas = predicciones[cols_objetivo].copy()\n",
    "    predicciones_seleccionadas = predicciones_seleccionadas.rename(columns={\"ds\": \"fecha\", \"yhat\": \"prevision\"})\n",
    "    predicciones_seleccionadas[\"prevision\"] = predicciones_seleccionadas[\"prevision\"].astype(int)\n",
    "    preds_final[producto_formato] = predicciones_seleccionadas\n"
   ]
  },
  {
   "cell_type": "code",
   "execution_count": 13,
   "metadata": {},
   "outputs": [
    {
     "name": "stdout",
     "output_type": "stream",
     "text": [
      "<class 'pandas.core.frame.DataFrame'>\n",
      "RangeIndex: 27125 entries, 0 to 27124\n",
      "Data columns (total 2 columns):\n",
      " #   Column     Non-Null Count  Dtype         \n",
      "---  ------     --------------  -----         \n",
      " 0   fecha      27125 non-null  datetime64[ns]\n",
      " 1   prevision  27125 non-null  int64         \n",
      "dtypes: datetime64[ns](1), int64(1)\n",
      "memory usage: 424.0 KB\n"
     ]
    }
   ],
   "source": [
    "# unir subdataframes en un dataframe global\n",
    "preds_prophet_fyv = pd.concat(list(preds_final.values()), ignore_index=True)\n",
    "\n",
    "preds_prophet_fyv.info()"
   ]
  },
  {
   "cell_type": "code",
   "execution_count": 14,
   "metadata": {},
   "outputs": [
    {
     "name": "stdout",
     "output_type": "stream",
     "text": [
      "<class 'pandas.core.frame.DataFrame'>\n",
      "RangeIndex: 26425 entries, 0 to 26424\n",
      "Data columns (total 2 columns):\n",
      " #   Column     Non-Null Count  Dtype         \n",
      "---  ------     --------------  -----         \n",
      " 0   fecha      26425 non-null  datetime64[ns]\n",
      " 1   prevision  26425 non-null  int64         \n",
      "dtypes: datetime64[ns](1), int64(1)\n",
      "memory usage: 413.0 KB\n"
     ]
    }
   ],
   "source": [
    "# obtener festivos nacionales en España para el año 2023\n",
    "festivos_espana = holidays.Spain(years=2023)\n",
    "\n",
    "# eliminar filas que sean domingos en la columna \"fecha\"\n",
    "preds_prophet_fyv = preds_prophet_fyv[~(preds_prophet_fyv['fecha'].dt.dayofweek == 6)]\n",
    "\n",
    "# eliminar filas correspondientes a festivos nacionales en España\n",
    "preds_prophet_fyv = preds_prophet_fyv[~preds_prophet_fyv['fecha'].isin(festivos_espana)]\n",
    "\n",
    "# reiniciar índice del dataframe\n",
    "preds_prophet_fyv.reset_index(drop=True, inplace=True)\n",
    "\n",
    "preds_prophet_fyv.info()"
   ]
  },
  {
   "cell_type": "code",
   "execution_count": 21,
   "metadata": {},
   "outputs": [
    {
     "data": {
      "text/html": [
       "<div>\n",
       "<style scoped>\n",
       "    .dataframe tbody tr th:only-of-type {\n",
       "        vertical-align: middle;\n",
       "    }\n",
       "\n",
       "    .dataframe tbody tr th {\n",
       "        vertical-align: top;\n",
       "    }\n",
       "\n",
       "    .dataframe thead th {\n",
       "        text-align: right;\n",
       "    }\n",
       "</style>\n",
       "<table border=\"1\" class=\"dataframe\">\n",
       "  <thead>\n",
       "    <tr style=\"text-align: right;\">\n",
       "      <th></th>\n",
       "      <th>venta_id</th>\n",
       "      <th>producto_id</th>\n",
       "      <th>venta</th>\n",
       "      <th>prevision</th>\n",
       "    </tr>\n",
       "  </thead>\n",
       "  <tbody>\n",
       "    <tr>\n",
       "      <th>0</th>\n",
       "      <td>1</td>\n",
       "      <td>1</td>\n",
       "      <td>17</td>\n",
       "      <td>19</td>\n",
       "    </tr>\n",
       "    <tr>\n",
       "      <th>1</th>\n",
       "      <td>2</td>\n",
       "      <td>1</td>\n",
       "      <td>11</td>\n",
       "      <td>13</td>\n",
       "    </tr>\n",
       "    <tr>\n",
       "      <th>2</th>\n",
       "      <td>3</td>\n",
       "      <td>1</td>\n",
       "      <td>5</td>\n",
       "      <td>15</td>\n",
       "    </tr>\n",
       "    <tr>\n",
       "      <th>3</th>\n",
       "      <td>4</td>\n",
       "      <td>1</td>\n",
       "      <td>8</td>\n",
       "      <td>15</td>\n",
       "    </tr>\n",
       "    <tr>\n",
       "      <th>4</th>\n",
       "      <td>5</td>\n",
       "      <td>1</td>\n",
       "      <td>56</td>\n",
       "      <td>35</td>\n",
       "    </tr>\n",
       "    <tr>\n",
       "      <th>...</th>\n",
       "      <td>...</td>\n",
       "      <td>...</td>\n",
       "      <td>...</td>\n",
       "      <td>...</td>\n",
       "    </tr>\n",
       "    <tr>\n",
       "      <th>26420</th>\n",
       "      <td>147</td>\n",
       "      <td>175</td>\n",
       "      <td>0</td>\n",
       "      <td>25</td>\n",
       "    </tr>\n",
       "    <tr>\n",
       "      <th>26421</th>\n",
       "      <td>148</td>\n",
       "      <td>175</td>\n",
       "      <td>0</td>\n",
       "      <td>17</td>\n",
       "    </tr>\n",
       "    <tr>\n",
       "      <th>26422</th>\n",
       "      <td>149</td>\n",
       "      <td>175</td>\n",
       "      <td>0</td>\n",
       "      <td>22</td>\n",
       "    </tr>\n",
       "    <tr>\n",
       "      <th>26423</th>\n",
       "      <td>150</td>\n",
       "      <td>175</td>\n",
       "      <td>0</td>\n",
       "      <td>21</td>\n",
       "    </tr>\n",
       "    <tr>\n",
       "      <th>26424</th>\n",
       "      <td>151</td>\n",
       "      <td>175</td>\n",
       "      <td>0</td>\n",
       "      <td>21</td>\n",
       "    </tr>\n",
       "  </tbody>\n",
       "</table>\n",
       "<p>26425 rows × 4 columns</p>\n",
       "</div>"
      ],
      "text/plain": [
       "       venta_id  producto_id  venta  prevision\n",
       "0             1            1     17         19\n",
       "1             2            1     11         13\n",
       "2             3            1      5         15\n",
       "3             4            1      8         15\n",
       "4             5            1     56         35\n",
       "...         ...          ...    ...        ...\n",
       "26420       147          175      0         25\n",
       "26421       148          175      0         17\n",
       "26422       149          175      0         22\n",
       "26423       150          175      0         21\n",
       "26424       151          175      0         21\n",
       "\n",
       "[26425 rows x 4 columns]"
      ]
     },
     "execution_count": 21,
     "metadata": {},
     "output_type": "execute_result"
    }
   ],
   "source": [
    "# añadir predicciones a columna \"prevision\"\n",
    "ventas_productos['prevision'] = preds_prophet_fyv['prevision']\n",
    "\n",
    "ventas_productos"
   ]
  },
  {
   "cell_type": "code",
   "execution_count": 20,
   "metadata": {},
   "outputs": [
    {
     "data": {
      "text/html": [
       "<div>\n",
       "<style scoped>\n",
       "    .dataframe tbody tr th:only-of-type {\n",
       "        vertical-align: middle;\n",
       "    }\n",
       "\n",
       "    .dataframe tbody tr th {\n",
       "        vertical-align: top;\n",
       "    }\n",
       "\n",
       "    .dataframe thead th {\n",
       "        text-align: right;\n",
       "    }\n",
       "</style>\n",
       "<table border=\"1\" class=\"dataframe\">\n",
       "  <thead>\n",
       "    <tr style=\"text-align: right;\">\n",
       "      <th></th>\n",
       "      <th>venta_id</th>\n",
       "      <th>producto_id</th>\n",
       "      <th>venta</th>\n",
       "      <th>prevision</th>\n",
       "    </tr>\n",
       "  </thead>\n",
       "  <tbody>\n",
       "    <tr>\n",
       "      <th>0</th>\n",
       "      <td>1</td>\n",
       "      <td>1</td>\n",
       "      <td>17</td>\n",
       "      <td>19</td>\n",
       "    </tr>\n",
       "    <tr>\n",
       "      <th>1</th>\n",
       "      <td>2</td>\n",
       "      <td>1</td>\n",
       "      <td>11</td>\n",
       "      <td>13</td>\n",
       "    </tr>\n",
       "    <tr>\n",
       "      <th>2</th>\n",
       "      <td>3</td>\n",
       "      <td>1</td>\n",
       "      <td>5</td>\n",
       "      <td>15</td>\n",
       "    </tr>\n",
       "    <tr>\n",
       "      <th>3</th>\n",
       "      <td>4</td>\n",
       "      <td>1</td>\n",
       "      <td>8</td>\n",
       "      <td>15</td>\n",
       "    </tr>\n",
       "    <tr>\n",
       "      <th>4</th>\n",
       "      <td>5</td>\n",
       "      <td>1</td>\n",
       "      <td>56</td>\n",
       "      <td>35</td>\n",
       "    </tr>\n",
       "    <tr>\n",
       "      <th>...</th>\n",
       "      <td>...</td>\n",
       "      <td>...</td>\n",
       "      <td>...</td>\n",
       "      <td>...</td>\n",
       "    </tr>\n",
       "    <tr>\n",
       "      <th>26420</th>\n",
       "      <td>147</td>\n",
       "      <td>175</td>\n",
       "      <td>0</td>\n",
       "      <td>25</td>\n",
       "    </tr>\n",
       "    <tr>\n",
       "      <th>26421</th>\n",
       "      <td>148</td>\n",
       "      <td>175</td>\n",
       "      <td>0</td>\n",
       "      <td>17</td>\n",
       "    </tr>\n",
       "    <tr>\n",
       "      <th>26422</th>\n",
       "      <td>149</td>\n",
       "      <td>175</td>\n",
       "      <td>0</td>\n",
       "      <td>22</td>\n",
       "    </tr>\n",
       "    <tr>\n",
       "      <th>26423</th>\n",
       "      <td>150</td>\n",
       "      <td>175</td>\n",
       "      <td>0</td>\n",
       "      <td>21</td>\n",
       "    </tr>\n",
       "    <tr>\n",
       "      <th>26424</th>\n",
       "      <td>151</td>\n",
       "      <td>175</td>\n",
       "      <td>0</td>\n",
       "      <td>21</td>\n",
       "    </tr>\n",
       "  </tbody>\n",
       "</table>\n",
       "<p>26425 rows × 4 columns</p>\n",
       "</div>"
      ],
      "text/plain": [
       "       venta_id  producto_id  venta  prevision\n",
       "0             1            1     17         19\n",
       "1             2            1     11         13\n",
       "2             3            1      5         15\n",
       "3             4            1      8         15\n",
       "4             5            1     56         35\n",
       "...         ...          ...    ...        ...\n",
       "26420       147          175      0         25\n",
       "26421       148          175      0         17\n",
       "26422       149          175      0         22\n",
       "26423       150          175      0         21\n",
       "26424       151          175      0         21\n",
       "\n",
       "[26425 rows x 4 columns]"
      ]
     },
     "execution_count": 20,
     "metadata": {},
     "output_type": "execute_result"
    }
   ],
   "source": [
    "ventas_productos"
   ]
  },
  {
   "cell_type": "code",
   "execution_count": 14,
   "metadata": {},
   "outputs": [
    {
     "data": {
      "application/vnd.plotly.v1+json": {
       "config": {
        "plotlyServerURL": "https://plot.ly"
       },
       "data": [
        {
         "marker": {
          "color": "black",
          "size": 4
         },
         "mode": "markers",
         "name": "Actual",
         "type": "scatter",
         "x": [
          "2023-01-02T00:00:00",
          "2023-01-03T00:00:00",
          "2023-01-04T00:00:00",
          "2023-01-05T00:00:00",
          "2023-01-07T00:00:00",
          "2023-01-09T00:00:00",
          "2023-01-10T00:00:00",
          "2023-01-11T00:00:00",
          "2023-01-12T00:00:00",
          "2023-01-13T00:00:00",
          "2023-01-14T00:00:00",
          "2023-01-16T00:00:00",
          "2023-01-17T00:00:00",
          "2023-01-18T00:00:00",
          "2023-01-19T00:00:00",
          "2023-01-20T00:00:00",
          "2023-01-21T00:00:00",
          "2023-01-23T00:00:00",
          "2023-01-24T00:00:00",
          "2023-01-25T00:00:00",
          "2023-01-26T00:00:00",
          "2023-01-27T00:00:00",
          "2023-01-28T00:00:00",
          "2023-01-30T00:00:00",
          "2023-01-31T00:00:00",
          "2023-02-01T00:00:00",
          "2023-02-02T00:00:00",
          "2023-02-03T00:00:00",
          "2023-02-04T00:00:00",
          "2023-02-06T00:00:00",
          "2023-02-07T00:00:00",
          "2023-02-08T00:00:00",
          "2023-02-09T00:00:00",
          "2023-02-10T00:00:00",
          "2023-02-11T00:00:00",
          "2023-02-13T00:00:00",
          "2023-02-14T00:00:00",
          "2023-02-15T00:00:00",
          "2023-02-16T00:00:00",
          "2023-02-17T00:00:00",
          "2023-02-18T00:00:00",
          "2023-02-20T00:00:00",
          "2023-02-21T00:00:00",
          "2023-02-22T00:00:00",
          "2023-02-23T00:00:00",
          "2023-02-24T00:00:00",
          "2023-02-25T00:00:00",
          "2023-02-27T00:00:00",
          "2023-02-28T00:00:00",
          "2023-03-01T00:00:00",
          "2023-03-02T00:00:00",
          "2023-03-03T00:00:00",
          "2023-03-04T00:00:00",
          "2023-03-06T00:00:00",
          "2023-03-07T00:00:00",
          "2023-03-08T00:00:00",
          "2023-03-09T00:00:00",
          "2023-03-10T00:00:00",
          "2023-03-11T00:00:00",
          "2023-03-13T00:00:00",
          "2023-03-14T00:00:00",
          "2023-03-15T00:00:00",
          "2023-03-16T00:00:00",
          "2023-03-17T00:00:00",
          "2023-03-18T00:00:00",
          "2023-03-20T00:00:00",
          "2023-03-21T00:00:00",
          "2023-03-22T00:00:00",
          "2023-03-23T00:00:00",
          "2023-03-24T00:00:00",
          "2023-03-25T00:00:00",
          "2023-03-27T00:00:00",
          "2023-03-28T00:00:00",
          "2023-03-29T00:00:00",
          "2023-03-30T00:00:00",
          "2023-03-31T00:00:00",
          "2023-04-01T00:00:00",
          "2023-04-03T00:00:00",
          "2023-04-04T00:00:00",
          "2023-04-05T00:00:00",
          "2023-04-08T00:00:00",
          "2023-04-10T00:00:00",
          "2023-04-11T00:00:00",
          "2023-04-12T00:00:00",
          "2023-04-13T00:00:00",
          "2023-04-14T00:00:00",
          "2023-04-15T00:00:00",
          "2023-04-17T00:00:00",
          "2023-04-18T00:00:00",
          "2023-04-19T00:00:00",
          "2023-04-20T00:00:00",
          "2023-04-21T00:00:00",
          "2023-04-22T00:00:00",
          "2023-04-24T00:00:00",
          "2023-04-25T00:00:00",
          "2023-04-26T00:00:00",
          "2023-04-27T00:00:00",
          "2023-04-28T00:00:00",
          "2023-04-29T00:00:00",
          "2023-05-02T00:00:00",
          "2023-05-03T00:00:00",
          "2023-05-04T00:00:00",
          "2023-05-05T00:00:00",
          "2023-05-06T00:00:00",
          "2023-05-08T00:00:00",
          "2023-05-09T00:00:00",
          "2023-05-10T00:00:00",
          "2023-05-11T00:00:00",
          "2023-05-12T00:00:00",
          "2023-05-13T00:00:00",
          "2023-05-15T00:00:00",
          "2023-05-16T00:00:00",
          "2023-05-17T00:00:00",
          "2023-05-18T00:00:00",
          "2023-05-19T00:00:00",
          "2023-05-20T00:00:00",
          "2023-05-22T00:00:00",
          "2023-05-23T00:00:00",
          "2023-05-24T00:00:00",
          "2023-05-25T00:00:00",
          "2023-05-26T00:00:00",
          "2023-05-27T00:00:00",
          "2023-05-29T00:00:00",
          "2023-05-30T00:00:00",
          "2023-05-31T00:00:00"
         ],
         "y": [
          3821,
          2539,
          2935,
          2700,
          5717,
          3717,
          2679,
          3006,
          2694,
          4308,
          5777,
          3193,
          2707,
          3061,
          2551,
          4404,
          5790,
          3757,
          2777,
          3100,
          2534,
          4328,
          5575,
          3599,
          2785,
          2902,
          2704,
          4511,
          5795,
          3549,
          2508,
          3097,
          2757,
          4545,
          5561,
          3601,
          2540,
          3164,
          2561,
          4706,
          5406,
          3637,
          2702,
          3217,
          2533,
          4559,
          5523,
          3578,
          2521,
          2950,
          2558,
          4724,
          5763,
          3587,
          2506,
          3313,
          2418,
          4130,
          6010,
          3747,
          2597,
          2933,
          2594,
          4399,
          6002,
          3658,
          2663,
          3090,
          2598,
          4497,
          5816,
          3977,
          2810,
          3120,
          2650,
          4182,
          5574,
          3534,
          2780,
          2867,
          5782,
          3774,
          2736,
          3090,
          2780,
          4613,
          5437,
          3565,
          2483,
          3137,
          2741,
          4327,
          5737,
          3461,
          2595,
          3257,
          2588,
          4437,
          5210,
          2614,
          3024,
          2428,
          3999,
          5681,
          3553,
          2440,
          3051,
          2655,
          4295,
          5671,
          3546,
          2691,
          3030,
          2743,
          4388,
          5667,
          3442,
          2652,
          2916,
          2665,
          4742,
          5543,
          3596,
          2728,
          3190
         ]
        },
        {
         "hoverinfo": "skip",
         "line": {
          "width": 0
         },
         "mode": "lines",
         "type": "scatter",
         "x": [
          "2023-01-02T00:00:00",
          "2023-01-03T00:00:00",
          "2023-01-04T00:00:00",
          "2023-01-05T00:00:00",
          "2023-01-07T00:00:00",
          "2023-01-09T00:00:00",
          "2023-01-10T00:00:00",
          "2023-01-11T00:00:00",
          "2023-01-12T00:00:00",
          "2023-01-13T00:00:00",
          "2023-01-14T00:00:00",
          "2023-01-16T00:00:00",
          "2023-01-17T00:00:00",
          "2023-01-18T00:00:00",
          "2023-01-19T00:00:00",
          "2023-01-20T00:00:00",
          "2023-01-21T00:00:00",
          "2023-01-23T00:00:00",
          "2023-01-24T00:00:00",
          "2023-01-25T00:00:00",
          "2023-01-26T00:00:00",
          "2023-01-27T00:00:00",
          "2023-01-28T00:00:00",
          "2023-01-30T00:00:00",
          "2023-01-31T00:00:00",
          "2023-02-01T00:00:00",
          "2023-02-02T00:00:00",
          "2023-02-03T00:00:00",
          "2023-02-04T00:00:00",
          "2023-02-06T00:00:00",
          "2023-02-07T00:00:00",
          "2023-02-08T00:00:00",
          "2023-02-09T00:00:00",
          "2023-02-10T00:00:00",
          "2023-02-11T00:00:00",
          "2023-02-13T00:00:00",
          "2023-02-14T00:00:00",
          "2023-02-15T00:00:00",
          "2023-02-16T00:00:00",
          "2023-02-17T00:00:00",
          "2023-02-18T00:00:00",
          "2023-02-20T00:00:00",
          "2023-02-21T00:00:00",
          "2023-02-22T00:00:00",
          "2023-02-23T00:00:00",
          "2023-02-24T00:00:00",
          "2023-02-25T00:00:00",
          "2023-02-27T00:00:00",
          "2023-02-28T00:00:00",
          "2023-03-01T00:00:00",
          "2023-03-02T00:00:00",
          "2023-03-03T00:00:00",
          "2023-03-04T00:00:00",
          "2023-03-06T00:00:00",
          "2023-03-07T00:00:00",
          "2023-03-08T00:00:00",
          "2023-03-09T00:00:00",
          "2023-03-10T00:00:00",
          "2023-03-11T00:00:00",
          "2023-03-13T00:00:00",
          "2023-03-14T00:00:00",
          "2023-03-15T00:00:00",
          "2023-03-16T00:00:00",
          "2023-03-17T00:00:00",
          "2023-03-18T00:00:00",
          "2023-03-20T00:00:00",
          "2023-03-21T00:00:00",
          "2023-03-22T00:00:00",
          "2023-03-23T00:00:00",
          "2023-03-24T00:00:00",
          "2023-03-25T00:00:00",
          "2023-03-27T00:00:00",
          "2023-03-28T00:00:00",
          "2023-03-29T00:00:00",
          "2023-03-30T00:00:00",
          "2023-03-31T00:00:00",
          "2023-04-01T00:00:00",
          "2023-04-03T00:00:00",
          "2023-04-04T00:00:00",
          "2023-04-05T00:00:00",
          "2023-04-08T00:00:00",
          "2023-04-10T00:00:00",
          "2023-04-11T00:00:00",
          "2023-04-12T00:00:00",
          "2023-04-13T00:00:00",
          "2023-04-14T00:00:00",
          "2023-04-15T00:00:00",
          "2023-04-17T00:00:00",
          "2023-04-18T00:00:00",
          "2023-04-19T00:00:00",
          "2023-04-20T00:00:00",
          "2023-04-21T00:00:00",
          "2023-04-22T00:00:00",
          "2023-04-24T00:00:00",
          "2023-04-25T00:00:00",
          "2023-04-26T00:00:00",
          "2023-04-27T00:00:00",
          "2023-04-28T00:00:00",
          "2023-04-29T00:00:00",
          "2023-05-02T00:00:00",
          "2023-05-03T00:00:00",
          "2023-05-04T00:00:00",
          "2023-05-05T00:00:00",
          "2023-05-06T00:00:00",
          "2023-05-08T00:00:00",
          "2023-05-09T00:00:00",
          "2023-05-10T00:00:00",
          "2023-05-11T00:00:00",
          "2023-05-12T00:00:00",
          "2023-05-13T00:00:00",
          "2023-05-15T00:00:00",
          "2023-05-16T00:00:00",
          "2023-05-17T00:00:00",
          "2023-05-18T00:00:00",
          "2023-05-19T00:00:00",
          "2023-05-20T00:00:00",
          "2023-05-22T00:00:00",
          "2023-05-23T00:00:00",
          "2023-05-24T00:00:00",
          "2023-05-25T00:00:00",
          "2023-05-26T00:00:00",
          "2023-05-27T00:00:00",
          "2023-05-29T00:00:00",
          "2023-05-30T00:00:00",
          "2023-05-31T00:00:00",
          "2023-06-01T00:00:00",
          "2023-06-02T00:00:00",
          "2023-06-03T00:00:00",
          "2023-06-04T00:00:00",
          "2023-06-05T00:00:00",
          "2023-06-06T00:00:00",
          "2023-06-07T00:00:00",
          "2023-06-08T00:00:00",
          "2023-06-09T00:00:00",
          "2023-06-10T00:00:00",
          "2023-06-11T00:00:00",
          "2023-06-12T00:00:00",
          "2023-06-13T00:00:00",
          "2023-06-14T00:00:00",
          "2023-06-15T00:00:00",
          "2023-06-16T00:00:00",
          "2023-06-17T00:00:00",
          "2023-06-18T00:00:00",
          "2023-06-19T00:00:00",
          "2023-06-20T00:00:00",
          "2023-06-21T00:00:00",
          "2023-06-22T00:00:00",
          "2023-06-23T00:00:00",
          "2023-06-24T00:00:00",
          "2023-06-25T00:00:00",
          "2023-06-26T00:00:00",
          "2023-06-27T00:00:00",
          "2023-06-28T00:00:00",
          "2023-06-29T00:00:00",
          "2023-06-30T00:00:00"
         ],
         "y": [
          3438.538007234774,
          2472.580486507893,
          2892.140580733519,
          2466.713903825102,
          5499.308277247655,
          3434.7877646516577,
          2467.348756144288,
          2883.9062111135845,
          2433.70867754208,
          4247.984891819849,
          5505.618823057257,
          3435.228662126319,
          2468.708026049877,
          2895.803506045576,
          2443.3461438150057,
          4255.206924255657,
          5490.939659850662,
          3435.117927641339,
          2458.7512585758495,
          2883.9749762260544,
          2428.759251669397,
          4253.2973732999735,
          5487.860880639374,
          3424.4177018745886,
          2462.273461509671,
          2900.696457514093,
          2455.120079065681,
          4259.642836185837,
          5518.559360715911,
          3430.1401740021292,
          2458.667920584516,
          2876.8337803250415,
          2439.3971014795766,
          4254.391144987017,
          5498.127622862099,
          3428.535826892598,
          2456.5972757575837,
          2880.1975261785637,
          2432.215568755698,
          4255.675608766251,
          5500.71622472395,
          3435.475237814095,
          2458.713820559869,
          2889.918495023053,
          2439.596888498078,
          4237.985596719807,
          5492.92931906979,
          3442.8716180544507,
          2448.2240371514235,
          2900.333231274714,
          2440.931092495588,
          4250.509310958181,
          5497.014736197237,
          3438.7839503332857,
          2463.503474523644,
          2886.4890960442,
          2438.421572676127,
          4247.187744602289,
          5485.732594569554,
          3454.3512661812965,
          2469.1258648883927,
          2884.1701525964413,
          2441.2116272788226,
          4236.073161847264,
          5487.2383203880345,
          3424.1540122771703,
          2467.9573985649367,
          2897.21651380203,
          2450.4440191359927,
          4246.648570929246,
          5484.859347585178,
          3440.6686354692356,
          2461.7836407728964,
          2890.6700098823003,
          2444.98716995598,
          4235.775923808162,
          5491.8550610008715,
          3432.236858032623,
          2460.880631523196,
          2866.6824400813666,
          5485.660725408178,
          3417.726457701457,
          2448.9211049883233,
          2877.652840012917,
          2440.184864246082,
          4232.746379490437,
          5477.9468614147445,
          3415.7876593423953,
          2468.96308539923,
          2871.4933210885074,
          2432.8757061484184,
          4234.130367189746,
          5469.029224269173,
          3421.3983023476812,
          2432.577824489146,
          2854.7842536367443,
          2423.4114039380065,
          4223.745602156784,
          5468.694424076269,
          2436.5300471201003,
          2865.53523065975,
          2427.7719129025672,
          4233.452084066035,
          5470.308919077312,
          3407.562405753884,
          2427.998873247712,
          2848.3797045772417,
          2424.165685619437,
          4218.225456001135,
          5453.53287781023,
          3400.212984697301,
          2442.531711850176,
          2844.493302362184,
          2408.0719469442847,
          4214.769613763942,
          5470.113504605273,
          3416.5822500839645,
          2429.9578679088254,
          2842.6032393426976,
          2411.179938832515,
          4203.538207923662,
          5458.203621587877,
          3400.212454699867,
          2428.7925826484434,
          2858.849188670429,
          2411.1738452146014,
          4201.793117481232,
          5449.571703495928,
          3524.4062057616093,
          3397.716549318198,
          2424.511089912049,
          2849.5141402734916,
          2396.4038612921427,
          4208.584302050107,
          5439.061276662367,
          3519.2582531261087,
          3389.4115537006114,
          2404.7832547208077,
          2868.446804022163,
          2402.30693312029,
          4193.114676579878,
          5448.091252018624,
          3523.530906915449,
          3396.8893855673546,
          2404.9355144873502,
          2847.002772726575,
          2406.7855336670737,
          4196.710536567717,
          5428.178962430105,
          3524.469691211305,
          3384.9263927181464,
          2401.770047636063,
          2833.744938207377,
          2395.9131304619445,
          4183.860852149385
         ]
        },
        {
         "fill": "tonexty",
         "fillcolor": "rgba(0, 114, 178, 0.2)",
         "line": {
          "color": "#0072B2",
          "width": 2
         },
         "mode": "lines",
         "name": "Predicted",
         "type": "scatter",
         "x": [
          "2023-01-02T00:00:00",
          "2023-01-03T00:00:00",
          "2023-01-04T00:00:00",
          "2023-01-05T00:00:00",
          "2023-01-07T00:00:00",
          "2023-01-09T00:00:00",
          "2023-01-10T00:00:00",
          "2023-01-11T00:00:00",
          "2023-01-12T00:00:00",
          "2023-01-13T00:00:00",
          "2023-01-14T00:00:00",
          "2023-01-16T00:00:00",
          "2023-01-17T00:00:00",
          "2023-01-18T00:00:00",
          "2023-01-19T00:00:00",
          "2023-01-20T00:00:00",
          "2023-01-21T00:00:00",
          "2023-01-23T00:00:00",
          "2023-01-24T00:00:00",
          "2023-01-25T00:00:00",
          "2023-01-26T00:00:00",
          "2023-01-27T00:00:00",
          "2023-01-28T00:00:00",
          "2023-01-30T00:00:00",
          "2023-01-31T00:00:00",
          "2023-02-01T00:00:00",
          "2023-02-02T00:00:00",
          "2023-02-03T00:00:00",
          "2023-02-04T00:00:00",
          "2023-02-06T00:00:00",
          "2023-02-07T00:00:00",
          "2023-02-08T00:00:00",
          "2023-02-09T00:00:00",
          "2023-02-10T00:00:00",
          "2023-02-11T00:00:00",
          "2023-02-13T00:00:00",
          "2023-02-14T00:00:00",
          "2023-02-15T00:00:00",
          "2023-02-16T00:00:00",
          "2023-02-17T00:00:00",
          "2023-02-18T00:00:00",
          "2023-02-20T00:00:00",
          "2023-02-21T00:00:00",
          "2023-02-22T00:00:00",
          "2023-02-23T00:00:00",
          "2023-02-24T00:00:00",
          "2023-02-25T00:00:00",
          "2023-02-27T00:00:00",
          "2023-02-28T00:00:00",
          "2023-03-01T00:00:00",
          "2023-03-02T00:00:00",
          "2023-03-03T00:00:00",
          "2023-03-04T00:00:00",
          "2023-03-06T00:00:00",
          "2023-03-07T00:00:00",
          "2023-03-08T00:00:00",
          "2023-03-09T00:00:00",
          "2023-03-10T00:00:00",
          "2023-03-11T00:00:00",
          "2023-03-13T00:00:00",
          "2023-03-14T00:00:00",
          "2023-03-15T00:00:00",
          "2023-03-16T00:00:00",
          "2023-03-17T00:00:00",
          "2023-03-18T00:00:00",
          "2023-03-20T00:00:00",
          "2023-03-21T00:00:00",
          "2023-03-22T00:00:00",
          "2023-03-23T00:00:00",
          "2023-03-24T00:00:00",
          "2023-03-25T00:00:00",
          "2023-03-27T00:00:00",
          "2023-03-28T00:00:00",
          "2023-03-29T00:00:00",
          "2023-03-30T00:00:00",
          "2023-03-31T00:00:00",
          "2023-04-01T00:00:00",
          "2023-04-03T00:00:00",
          "2023-04-04T00:00:00",
          "2023-04-05T00:00:00",
          "2023-04-08T00:00:00",
          "2023-04-10T00:00:00",
          "2023-04-11T00:00:00",
          "2023-04-12T00:00:00",
          "2023-04-13T00:00:00",
          "2023-04-14T00:00:00",
          "2023-04-15T00:00:00",
          "2023-04-17T00:00:00",
          "2023-04-18T00:00:00",
          "2023-04-19T00:00:00",
          "2023-04-20T00:00:00",
          "2023-04-21T00:00:00",
          "2023-04-22T00:00:00",
          "2023-04-24T00:00:00",
          "2023-04-25T00:00:00",
          "2023-04-26T00:00:00",
          "2023-04-27T00:00:00",
          "2023-04-28T00:00:00",
          "2023-04-29T00:00:00",
          "2023-05-02T00:00:00",
          "2023-05-03T00:00:00",
          "2023-05-04T00:00:00",
          "2023-05-05T00:00:00",
          "2023-05-06T00:00:00",
          "2023-05-08T00:00:00",
          "2023-05-09T00:00:00",
          "2023-05-10T00:00:00",
          "2023-05-11T00:00:00",
          "2023-05-12T00:00:00",
          "2023-05-13T00:00:00",
          "2023-05-15T00:00:00",
          "2023-05-16T00:00:00",
          "2023-05-17T00:00:00",
          "2023-05-18T00:00:00",
          "2023-05-19T00:00:00",
          "2023-05-20T00:00:00",
          "2023-05-22T00:00:00",
          "2023-05-23T00:00:00",
          "2023-05-24T00:00:00",
          "2023-05-25T00:00:00",
          "2023-05-26T00:00:00",
          "2023-05-27T00:00:00",
          "2023-05-29T00:00:00",
          "2023-05-30T00:00:00",
          "2023-05-31T00:00:00",
          "2023-06-01T00:00:00",
          "2023-06-02T00:00:00",
          "2023-06-03T00:00:00",
          "2023-06-04T00:00:00",
          "2023-06-05T00:00:00",
          "2023-06-06T00:00:00",
          "2023-06-07T00:00:00",
          "2023-06-08T00:00:00",
          "2023-06-09T00:00:00",
          "2023-06-10T00:00:00",
          "2023-06-11T00:00:00",
          "2023-06-12T00:00:00",
          "2023-06-13T00:00:00",
          "2023-06-14T00:00:00",
          "2023-06-15T00:00:00",
          "2023-06-16T00:00:00",
          "2023-06-17T00:00:00",
          "2023-06-18T00:00:00",
          "2023-06-19T00:00:00",
          "2023-06-20T00:00:00",
          "2023-06-21T00:00:00",
          "2023-06-22T00:00:00",
          "2023-06-23T00:00:00",
          "2023-06-24T00:00:00",
          "2023-06-25T00:00:00",
          "2023-06-26T00:00:00",
          "2023-06-27T00:00:00",
          "2023-06-28T00:00:00",
          "2023-06-29T00:00:00",
          "2023-06-30T00:00:00"
         ],
         "y": [
          3621.9969443631976,
          2647.6972400752425,
          3075.1159093746296,
          2630.7839593473122,
          5677.052933653216,
          3622.0759775494275,
          2647.7762732793362,
          3075.194942592282,
          2630.862992587547,
          4434.854490992535,
          5677.131966762101,
          3622.1550105052956,
          2647.8553061553066,
          3075.273975443352,
          2630.9420254128154,
          4434.933523873595,
          5677.210999699487,
          3622.2340435665456,
          2647.934339278887,
          3075.3530085797083,
          2631.0210585593563,
          4435.012556953802,
          5677.290032720388,
          3622.3130764448792,
          2648.0133720863632,
          3075.4320414295644,
          2631.1000914508763,
          4435.091589953773,
          5677.3690658400155,
          3622.392109524672,
          2648.0924051474917,
          3075.5110743619043,
          2631.179124252053,
          4435.170622614118,
          5677.448098350071,
          3622.47114201244,
          2648.171437625615,
          3075.590106883569,
          2631.25815682504,
          4435.24965525165,
          5677.5271310465,
          3622.5501742900715,
          2648.2504696917913,
          3075.6691386795583,
          2631.3371883442055,
          4435.32868708828,
          5677.606163215678,
          3622.6292076444947,
          2648.329503641914,
          3075.7474738591345,
          2631.414824748618,
          4435.405624128805,
          5677.682400463469,
          3622.70404531698,
          2648.40364152272,
          3075.8216113141525,
          2631.460530294033,
          4435.4228977517305,
          5677.67124259273,
          3622.636024454514,
          2648.256125946935,
          3075.594601026022,
          2631.1824567836184,
          4435.093761024993,
          5677.261449283013,
          3622.06491798811,
          2647.6554261194715,
          3074.9643078385516,
          2630.2393257890435,
          4433.837792232544,
          5675.722236043903,
          3619.959215863376,
          2645.089395506303,
          3071.93794873881,
          2627.035882643661,
          4430.457265038227,
          5672.164623601963,
          3616.0474329185245,
          2641.1776113544497,
          3068.0261633807404,
          5668.252827796586,
          3612.135631754529,
          2637.265807513643,
          3064.1143568587386,
          2619.212286574021,
          4422.633664768133,
          5664.34102034418,
          3608.2238236850108,
          2633.35399912848,
          3060.202548157852,
          2615.30047786632,
          4418.721856060632,
          5660.429211596703,
          3604.3120148555427,
          2629.4421902654867,
          3056.2907392623865,
          2611.388707697446,
          4414.810124620723,
          5656.517518911096,
          2625.530613859574,
          3052.3931350953526,
          2607.505037007997,
          4410.940387409863,
          5652.661715182895,
          3596.572462919687,
          2621.7166105673355,
          3048.5791318056454,
          2603.691033718229,
          4407.126384122753,
          5648.8477118920755,
          3592.7584596295737,
          2617.9026072774677,
          3044.7651285108145,
          2599.87703042503,
          4403.3123808320215,
          5645.0337086025775,
          3588.944456338149,
          2614.0886039852285,
          3040.9511252211078,
          2596.063027135262,
          4399.49837753371,
          5641.219705311759,
          3585.130453046299,
          2610.2746006955804,
          3037.1371219310554,
          2592.249023842063,
          4395.684374242978,
          5637.405702020938,
          3713.519795126905,
          3581.3164497548737,
          2606.460597403341,
          3033.3231186387866,
          2588.4350205557257,
          4391.870370952248,
          5633.5916987270275,
          3709.7057918405426,
          3577.5024464630246,
          2602.646594112288,
          3029.509115346517,
          2584.6210172625265,
          4388.056367653937,
          5629.777695433116,
          3705.891788547625,
          3573.6884431720246,
          2598.8325908212346,
          3025.695112056809,
          2580.807013968715,
          4384.242364366825,
          5625.963692142296,
          3702.0777852547067,
          3569.8744398819117,
          2595.0185875304014,
          3021.8811087671024,
          2576.9930106789466,
          4380.428361072475
         ]
        },
        {
         "fill": "tonexty",
         "fillcolor": "rgba(0, 114, 178, 0.2)",
         "hoverinfo": "skip",
         "line": {
          "width": 0
         },
         "mode": "lines",
         "type": "scatter",
         "x": [
          "2023-01-02T00:00:00",
          "2023-01-03T00:00:00",
          "2023-01-04T00:00:00",
          "2023-01-05T00:00:00",
          "2023-01-07T00:00:00",
          "2023-01-09T00:00:00",
          "2023-01-10T00:00:00",
          "2023-01-11T00:00:00",
          "2023-01-12T00:00:00",
          "2023-01-13T00:00:00",
          "2023-01-14T00:00:00",
          "2023-01-16T00:00:00",
          "2023-01-17T00:00:00",
          "2023-01-18T00:00:00",
          "2023-01-19T00:00:00",
          "2023-01-20T00:00:00",
          "2023-01-21T00:00:00",
          "2023-01-23T00:00:00",
          "2023-01-24T00:00:00",
          "2023-01-25T00:00:00",
          "2023-01-26T00:00:00",
          "2023-01-27T00:00:00",
          "2023-01-28T00:00:00",
          "2023-01-30T00:00:00",
          "2023-01-31T00:00:00",
          "2023-02-01T00:00:00",
          "2023-02-02T00:00:00",
          "2023-02-03T00:00:00",
          "2023-02-04T00:00:00",
          "2023-02-06T00:00:00",
          "2023-02-07T00:00:00",
          "2023-02-08T00:00:00",
          "2023-02-09T00:00:00",
          "2023-02-10T00:00:00",
          "2023-02-11T00:00:00",
          "2023-02-13T00:00:00",
          "2023-02-14T00:00:00",
          "2023-02-15T00:00:00",
          "2023-02-16T00:00:00",
          "2023-02-17T00:00:00",
          "2023-02-18T00:00:00",
          "2023-02-20T00:00:00",
          "2023-02-21T00:00:00",
          "2023-02-22T00:00:00",
          "2023-02-23T00:00:00",
          "2023-02-24T00:00:00",
          "2023-02-25T00:00:00",
          "2023-02-27T00:00:00",
          "2023-02-28T00:00:00",
          "2023-03-01T00:00:00",
          "2023-03-02T00:00:00",
          "2023-03-03T00:00:00",
          "2023-03-04T00:00:00",
          "2023-03-06T00:00:00",
          "2023-03-07T00:00:00",
          "2023-03-08T00:00:00",
          "2023-03-09T00:00:00",
          "2023-03-10T00:00:00",
          "2023-03-11T00:00:00",
          "2023-03-13T00:00:00",
          "2023-03-14T00:00:00",
          "2023-03-15T00:00:00",
          "2023-03-16T00:00:00",
          "2023-03-17T00:00:00",
          "2023-03-18T00:00:00",
          "2023-03-20T00:00:00",
          "2023-03-21T00:00:00",
          "2023-03-22T00:00:00",
          "2023-03-23T00:00:00",
          "2023-03-24T00:00:00",
          "2023-03-25T00:00:00",
          "2023-03-27T00:00:00",
          "2023-03-28T00:00:00",
          "2023-03-29T00:00:00",
          "2023-03-30T00:00:00",
          "2023-03-31T00:00:00",
          "2023-04-01T00:00:00",
          "2023-04-03T00:00:00",
          "2023-04-04T00:00:00",
          "2023-04-05T00:00:00",
          "2023-04-08T00:00:00",
          "2023-04-10T00:00:00",
          "2023-04-11T00:00:00",
          "2023-04-12T00:00:00",
          "2023-04-13T00:00:00",
          "2023-04-14T00:00:00",
          "2023-04-15T00:00:00",
          "2023-04-17T00:00:00",
          "2023-04-18T00:00:00",
          "2023-04-19T00:00:00",
          "2023-04-20T00:00:00",
          "2023-04-21T00:00:00",
          "2023-04-22T00:00:00",
          "2023-04-24T00:00:00",
          "2023-04-25T00:00:00",
          "2023-04-26T00:00:00",
          "2023-04-27T00:00:00",
          "2023-04-28T00:00:00",
          "2023-04-29T00:00:00",
          "2023-05-02T00:00:00",
          "2023-05-03T00:00:00",
          "2023-05-04T00:00:00",
          "2023-05-05T00:00:00",
          "2023-05-06T00:00:00",
          "2023-05-08T00:00:00",
          "2023-05-09T00:00:00",
          "2023-05-10T00:00:00",
          "2023-05-11T00:00:00",
          "2023-05-12T00:00:00",
          "2023-05-13T00:00:00",
          "2023-05-15T00:00:00",
          "2023-05-16T00:00:00",
          "2023-05-17T00:00:00",
          "2023-05-18T00:00:00",
          "2023-05-19T00:00:00",
          "2023-05-20T00:00:00",
          "2023-05-22T00:00:00",
          "2023-05-23T00:00:00",
          "2023-05-24T00:00:00",
          "2023-05-25T00:00:00",
          "2023-05-26T00:00:00",
          "2023-05-27T00:00:00",
          "2023-05-29T00:00:00",
          "2023-05-30T00:00:00",
          "2023-05-31T00:00:00",
          "2023-06-01T00:00:00",
          "2023-06-02T00:00:00",
          "2023-06-03T00:00:00",
          "2023-06-04T00:00:00",
          "2023-06-05T00:00:00",
          "2023-06-06T00:00:00",
          "2023-06-07T00:00:00",
          "2023-06-08T00:00:00",
          "2023-06-09T00:00:00",
          "2023-06-10T00:00:00",
          "2023-06-11T00:00:00",
          "2023-06-12T00:00:00",
          "2023-06-13T00:00:00",
          "2023-06-14T00:00:00",
          "2023-06-15T00:00:00",
          "2023-06-16T00:00:00",
          "2023-06-17T00:00:00",
          "2023-06-18T00:00:00",
          "2023-06-19T00:00:00",
          "2023-06-20T00:00:00",
          "2023-06-21T00:00:00",
          "2023-06-22T00:00:00",
          "2023-06-23T00:00:00",
          "2023-06-24T00:00:00",
          "2023-06-25T00:00:00",
          "2023-06-26T00:00:00",
          "2023-06-27T00:00:00",
          "2023-06-28T00:00:00",
          "2023-06-29T00:00:00",
          "2023-06-30T00:00:00"
         ],
         "y": [
          3812.8727052371814,
          2832.3995064062165,
          3252.6211405035515,
          2819.826050392399,
          5864.766271878711,
          3803.3719070222533,
          2839.2089109546732,
          3254.884687596044,
          2815.07452107561,
          4591.940874488925,
          5872.401035017732,
          3789.0426291208814,
          2832.3594349462464,
          3272.567295315743,
          2808.1142006363534,
          4620.446788387967,
          5859.519307619623,
          3802.189159919363,
          2829.833927024122,
          3271.1063539600304,
          2821.7104919827543,
          4615.461609524847,
          5854.679409087068,
          3797.2443896254103,
          2830.0635892660393,
          3245.6469778830747,
          2821.5598841513265,
          4614.697039923789,
          5870.695750138266,
          3803.745454940311,
          2840.014544044841,
          3255.816861898657,
          2804.8862594950783,
          4614.960250577387,
          5866.027574400585,
          3795.742324457828,
          2840.5052614684273,
          3260.85971293818,
          2820.2981294234605,
          4628.625175629157,
          5854.060747011696,
          3801.171268795539,
          2830.1771969756564,
          3262.9574059886263,
          2809.810901126485,
          4619.917682440777,
          5879.145404374272,
          3803.322105216715,
          2839.960773687023,
          3265.577820397251,
          2821.124960387891,
          4603.562178142516,
          5858.423772553111,
          3800.750379360704,
          2832.550081474623,
          3259.415327647199,
          2801.223734891467,
          4626.006717868687,
          5855.464029005524,
          3805.889261447549,
          2830.0988150652183,
          3265.0280473608636,
          2832.148565280492,
          4620.741004232581,
          5865.4398145636205,
          3800.790104620314,
          2847.4493473320845,
          3260.259557615276,
          2835.3644018829355,
          4622.076573339226,
          5863.163800058997,
          3810.4109020997826,
          2833.270303979701,
          3244.4592765882708,
          2802.355501717281,
          4620.4228313349295,
          5871.098478520831,
          3804.1744672178143,
          2838.9389579197814,
          3244.8218870170836,
          5843.401311815163,
          3789.4724301705473,
          2820.6392209931246,
          3247.228106384394,
          2807.9518386054574,
          4602.527502437223,
          5847.114014019461,
          3791.16093849497,
          2820.868149685652,
          3229.2365420501264,
          2796.0644540096578,
          4607.407693850068,
          5851.108980762202,
          3786.204829480472,
          2810.102684256844,
          3242.9794807464436,
          2804.797123646654,
          4592.2729312729325,
          5863.3679484747245,
          2818.0052375863584,
          3240.0597046442495,
          2789.1235073562216,
          4609.661264656423,
          5835.646295887305,
          3767.932712462781,
          2794.0093934075817,
          3228.1308062472212,
          2792.101825091687,
          4587.6962186928,
          5818.225728146389,
          3782.369565305172,
          2803.991728527207,
          3234.951382981979,
          2787.502901007531,
          4585.535933699494,
          5816.812003078723,
          3769.963235764884,
          2797.000620096974,
          3226.356082816583,
          2791.500268269881,
          4578.456760755149,
          5811.582901203118,
          3769.554388535022,
          2791.774642485663,
          3214.7700061875,
          2776.8052615985707,
          4586.114706072286,
          5822.661900580629,
          3883.8317304643465,
          3768.6783010027752,
          2789.7555594549312,
          3211.7126469368004,
          2761.80111298075,
          4577.1771230700515,
          5816.594886641245,
          3896.5253341187336,
          3760.2467667778446,
          2781.9250517853125,
          3214.787662052757,
          2776.37880556838,
          4586.760525653496,
          5802.839206482745,
          3905.8393895352688,
          3745.3269088649286,
          2782.2885252695855,
          3197.3401522026556,
          2763.455276984516,
          4570.3153997881445,
          5811.266961799818,
          3894.397535181839,
          3741.1334557964497,
          2765.916102305089,
          3213.0262442034796,
          2776.3651418279974,
          4563.33358286753
         ]
        }
       ],
       "layout": {
        "height": 600,
        "showlegend": false,
        "template": {
         "data": {
          "bar": [
           {
            "error_x": {
             "color": "#2a3f5f"
            },
            "error_y": {
             "color": "#2a3f5f"
            },
            "marker": {
             "line": {
              "color": "#E5ECF6",
              "width": 0.5
             },
             "pattern": {
              "fillmode": "overlay",
              "size": 10,
              "solidity": 0.2
             }
            },
            "type": "bar"
           }
          ],
          "barpolar": [
           {
            "marker": {
             "line": {
              "color": "#E5ECF6",
              "width": 0.5
             },
             "pattern": {
              "fillmode": "overlay",
              "size": 10,
              "solidity": 0.2
             }
            },
            "type": "barpolar"
           }
          ],
          "carpet": [
           {
            "aaxis": {
             "endlinecolor": "#2a3f5f",
             "gridcolor": "white",
             "linecolor": "white",
             "minorgridcolor": "white",
             "startlinecolor": "#2a3f5f"
            },
            "baxis": {
             "endlinecolor": "#2a3f5f",
             "gridcolor": "white",
             "linecolor": "white",
             "minorgridcolor": "white",
             "startlinecolor": "#2a3f5f"
            },
            "type": "carpet"
           }
          ],
          "choropleth": [
           {
            "colorbar": {
             "outlinewidth": 0,
             "ticks": ""
            },
            "type": "choropleth"
           }
          ],
          "contour": [
           {
            "colorbar": {
             "outlinewidth": 0,
             "ticks": ""
            },
            "colorscale": [
             [
              0,
              "#0d0887"
             ],
             [
              0.1111111111111111,
              "#46039f"
             ],
             [
              0.2222222222222222,
              "#7201a8"
             ],
             [
              0.3333333333333333,
              "#9c179e"
             ],
             [
              0.4444444444444444,
              "#bd3786"
             ],
             [
              0.5555555555555556,
              "#d8576b"
             ],
             [
              0.6666666666666666,
              "#ed7953"
             ],
             [
              0.7777777777777778,
              "#fb9f3a"
             ],
             [
              0.8888888888888888,
              "#fdca26"
             ],
             [
              1,
              "#f0f921"
             ]
            ],
            "type": "contour"
           }
          ],
          "contourcarpet": [
           {
            "colorbar": {
             "outlinewidth": 0,
             "ticks": ""
            },
            "type": "contourcarpet"
           }
          ],
          "heatmap": [
           {
            "colorbar": {
             "outlinewidth": 0,
             "ticks": ""
            },
            "colorscale": [
             [
              0,
              "#0d0887"
             ],
             [
              0.1111111111111111,
              "#46039f"
             ],
             [
              0.2222222222222222,
              "#7201a8"
             ],
             [
              0.3333333333333333,
              "#9c179e"
             ],
             [
              0.4444444444444444,
              "#bd3786"
             ],
             [
              0.5555555555555556,
              "#d8576b"
             ],
             [
              0.6666666666666666,
              "#ed7953"
             ],
             [
              0.7777777777777778,
              "#fb9f3a"
             ],
             [
              0.8888888888888888,
              "#fdca26"
             ],
             [
              1,
              "#f0f921"
             ]
            ],
            "type": "heatmap"
           }
          ],
          "heatmapgl": [
           {
            "colorbar": {
             "outlinewidth": 0,
             "ticks": ""
            },
            "colorscale": [
             [
              0,
              "#0d0887"
             ],
             [
              0.1111111111111111,
              "#46039f"
             ],
             [
              0.2222222222222222,
              "#7201a8"
             ],
             [
              0.3333333333333333,
              "#9c179e"
             ],
             [
              0.4444444444444444,
              "#bd3786"
             ],
             [
              0.5555555555555556,
              "#d8576b"
             ],
             [
              0.6666666666666666,
              "#ed7953"
             ],
             [
              0.7777777777777778,
              "#fb9f3a"
             ],
             [
              0.8888888888888888,
              "#fdca26"
             ],
             [
              1,
              "#f0f921"
             ]
            ],
            "type": "heatmapgl"
           }
          ],
          "histogram": [
           {
            "marker": {
             "pattern": {
              "fillmode": "overlay",
              "size": 10,
              "solidity": 0.2
             }
            },
            "type": "histogram"
           }
          ],
          "histogram2d": [
           {
            "colorbar": {
             "outlinewidth": 0,
             "ticks": ""
            },
            "colorscale": [
             [
              0,
              "#0d0887"
             ],
             [
              0.1111111111111111,
              "#46039f"
             ],
             [
              0.2222222222222222,
              "#7201a8"
             ],
             [
              0.3333333333333333,
              "#9c179e"
             ],
             [
              0.4444444444444444,
              "#bd3786"
             ],
             [
              0.5555555555555556,
              "#d8576b"
             ],
             [
              0.6666666666666666,
              "#ed7953"
             ],
             [
              0.7777777777777778,
              "#fb9f3a"
             ],
             [
              0.8888888888888888,
              "#fdca26"
             ],
             [
              1,
              "#f0f921"
             ]
            ],
            "type": "histogram2d"
           }
          ],
          "histogram2dcontour": [
           {
            "colorbar": {
             "outlinewidth": 0,
             "ticks": ""
            },
            "colorscale": [
             [
              0,
              "#0d0887"
             ],
             [
              0.1111111111111111,
              "#46039f"
             ],
             [
              0.2222222222222222,
              "#7201a8"
             ],
             [
              0.3333333333333333,
              "#9c179e"
             ],
             [
              0.4444444444444444,
              "#bd3786"
             ],
             [
              0.5555555555555556,
              "#d8576b"
             ],
             [
              0.6666666666666666,
              "#ed7953"
             ],
             [
              0.7777777777777778,
              "#fb9f3a"
             ],
             [
              0.8888888888888888,
              "#fdca26"
             ],
             [
              1,
              "#f0f921"
             ]
            ],
            "type": "histogram2dcontour"
           }
          ],
          "mesh3d": [
           {
            "colorbar": {
             "outlinewidth": 0,
             "ticks": ""
            },
            "type": "mesh3d"
           }
          ],
          "parcoords": [
           {
            "line": {
             "colorbar": {
              "outlinewidth": 0,
              "ticks": ""
             }
            },
            "type": "parcoords"
           }
          ],
          "pie": [
           {
            "automargin": true,
            "type": "pie"
           }
          ],
          "scatter": [
           {
            "fillpattern": {
             "fillmode": "overlay",
             "size": 10,
             "solidity": 0.2
            },
            "type": "scatter"
           }
          ],
          "scatter3d": [
           {
            "line": {
             "colorbar": {
              "outlinewidth": 0,
              "ticks": ""
             }
            },
            "marker": {
             "colorbar": {
              "outlinewidth": 0,
              "ticks": ""
             }
            },
            "type": "scatter3d"
           }
          ],
          "scattercarpet": [
           {
            "marker": {
             "colorbar": {
              "outlinewidth": 0,
              "ticks": ""
             }
            },
            "type": "scattercarpet"
           }
          ],
          "scattergeo": [
           {
            "marker": {
             "colorbar": {
              "outlinewidth": 0,
              "ticks": ""
             }
            },
            "type": "scattergeo"
           }
          ],
          "scattergl": [
           {
            "marker": {
             "colorbar": {
              "outlinewidth": 0,
              "ticks": ""
             }
            },
            "type": "scattergl"
           }
          ],
          "scattermapbox": [
           {
            "marker": {
             "colorbar": {
              "outlinewidth": 0,
              "ticks": ""
             }
            },
            "type": "scattermapbox"
           }
          ],
          "scatterpolar": [
           {
            "marker": {
             "colorbar": {
              "outlinewidth": 0,
              "ticks": ""
             }
            },
            "type": "scatterpolar"
           }
          ],
          "scatterpolargl": [
           {
            "marker": {
             "colorbar": {
              "outlinewidth": 0,
              "ticks": ""
             }
            },
            "type": "scatterpolargl"
           }
          ],
          "scatterternary": [
           {
            "marker": {
             "colorbar": {
              "outlinewidth": 0,
              "ticks": ""
             }
            },
            "type": "scatterternary"
           }
          ],
          "surface": [
           {
            "colorbar": {
             "outlinewidth": 0,
             "ticks": ""
            },
            "colorscale": [
             [
              0,
              "#0d0887"
             ],
             [
              0.1111111111111111,
              "#46039f"
             ],
             [
              0.2222222222222222,
              "#7201a8"
             ],
             [
              0.3333333333333333,
              "#9c179e"
             ],
             [
              0.4444444444444444,
              "#bd3786"
             ],
             [
              0.5555555555555556,
              "#d8576b"
             ],
             [
              0.6666666666666666,
              "#ed7953"
             ],
             [
              0.7777777777777778,
              "#fb9f3a"
             ],
             [
              0.8888888888888888,
              "#fdca26"
             ],
             [
              1,
              "#f0f921"
             ]
            ],
            "type": "surface"
           }
          ],
          "table": [
           {
            "cells": {
             "fill": {
              "color": "#EBF0F8"
             },
             "line": {
              "color": "white"
             }
            },
            "header": {
             "fill": {
              "color": "#C8D4E3"
             },
             "line": {
              "color": "white"
             }
            },
            "type": "table"
           }
          ]
         },
         "layout": {
          "annotationdefaults": {
           "arrowcolor": "#2a3f5f",
           "arrowhead": 0,
           "arrowwidth": 1
          },
          "autotypenumbers": "strict",
          "coloraxis": {
           "colorbar": {
            "outlinewidth": 0,
            "ticks": ""
           }
          },
          "colorscale": {
           "diverging": [
            [
             0,
             "#8e0152"
            ],
            [
             0.1,
             "#c51b7d"
            ],
            [
             0.2,
             "#de77ae"
            ],
            [
             0.3,
             "#f1b6da"
            ],
            [
             0.4,
             "#fde0ef"
            ],
            [
             0.5,
             "#f7f7f7"
            ],
            [
             0.6,
             "#e6f5d0"
            ],
            [
             0.7,
             "#b8e186"
            ],
            [
             0.8,
             "#7fbc41"
            ],
            [
             0.9,
             "#4d9221"
            ],
            [
             1,
             "#276419"
            ]
           ],
           "sequential": [
            [
             0,
             "#0d0887"
            ],
            [
             0.1111111111111111,
             "#46039f"
            ],
            [
             0.2222222222222222,
             "#7201a8"
            ],
            [
             0.3333333333333333,
             "#9c179e"
            ],
            [
             0.4444444444444444,
             "#bd3786"
            ],
            [
             0.5555555555555556,
             "#d8576b"
            ],
            [
             0.6666666666666666,
             "#ed7953"
            ],
            [
             0.7777777777777778,
             "#fb9f3a"
            ],
            [
             0.8888888888888888,
             "#fdca26"
            ],
            [
             1,
             "#f0f921"
            ]
           ],
           "sequentialminus": [
            [
             0,
             "#0d0887"
            ],
            [
             0.1111111111111111,
             "#46039f"
            ],
            [
             0.2222222222222222,
             "#7201a8"
            ],
            [
             0.3333333333333333,
             "#9c179e"
            ],
            [
             0.4444444444444444,
             "#bd3786"
            ],
            [
             0.5555555555555556,
             "#d8576b"
            ],
            [
             0.6666666666666666,
             "#ed7953"
            ],
            [
             0.7777777777777778,
             "#fb9f3a"
            ],
            [
             0.8888888888888888,
             "#fdca26"
            ],
            [
             1,
             "#f0f921"
            ]
           ]
          },
          "colorway": [
           "#636efa",
           "#EF553B",
           "#00cc96",
           "#ab63fa",
           "#FFA15A",
           "#19d3f3",
           "#FF6692",
           "#B6E880",
           "#FF97FF",
           "#FECB52"
          ],
          "font": {
           "color": "#2a3f5f"
          },
          "geo": {
           "bgcolor": "white",
           "lakecolor": "white",
           "landcolor": "#E5ECF6",
           "showlakes": true,
           "showland": true,
           "subunitcolor": "white"
          },
          "hoverlabel": {
           "align": "left"
          },
          "hovermode": "closest",
          "mapbox": {
           "style": "light"
          },
          "paper_bgcolor": "white",
          "plot_bgcolor": "#E5ECF6",
          "polar": {
           "angularaxis": {
            "gridcolor": "white",
            "linecolor": "white",
            "ticks": ""
           },
           "bgcolor": "#E5ECF6",
           "radialaxis": {
            "gridcolor": "white",
            "linecolor": "white",
            "ticks": ""
           }
          },
          "scene": {
           "xaxis": {
            "backgroundcolor": "#E5ECF6",
            "gridcolor": "white",
            "gridwidth": 2,
            "linecolor": "white",
            "showbackground": true,
            "ticks": "",
            "zerolinecolor": "white"
           },
           "yaxis": {
            "backgroundcolor": "#E5ECF6",
            "gridcolor": "white",
            "gridwidth": 2,
            "linecolor": "white",
            "showbackground": true,
            "ticks": "",
            "zerolinecolor": "white"
           },
           "zaxis": {
            "backgroundcolor": "#E5ECF6",
            "gridcolor": "white",
            "gridwidth": 2,
            "linecolor": "white",
            "showbackground": true,
            "ticks": "",
            "zerolinecolor": "white"
           }
          },
          "shapedefaults": {
           "line": {
            "color": "#2a3f5f"
           }
          },
          "ternary": {
           "aaxis": {
            "gridcolor": "white",
            "linecolor": "white",
            "ticks": ""
           },
           "baxis": {
            "gridcolor": "white",
            "linecolor": "white",
            "ticks": ""
           },
           "bgcolor": "#E5ECF6",
           "caxis": {
            "gridcolor": "white",
            "linecolor": "white",
            "ticks": ""
           }
          },
          "title": {
           "x": 0.05
          },
          "xaxis": {
           "automargin": true,
           "gridcolor": "white",
           "linecolor": "white",
           "ticks": "",
           "title": {
            "standoff": 15
           },
           "zerolinecolor": "white",
           "zerolinewidth": 2
          },
          "yaxis": {
           "automargin": true,
           "gridcolor": "white",
           "linecolor": "white",
           "ticks": "",
           "title": {
            "standoff": 15
           },
           "zerolinecolor": "white",
           "zerolinewidth": 2
          }
         }
        },
        "width": 900,
        "xaxis": {
         "rangeselector": {
          "buttons": [
           {
            "count": 7,
            "label": "1w",
            "step": "day",
            "stepmode": "backward"
           },
           {
            "count": 1,
            "label": "1m",
            "step": "month",
            "stepmode": "backward"
           },
           {
            "count": 6,
            "label": "6m",
            "step": "month",
            "stepmode": "backward"
           },
           {
            "count": 1,
            "label": "1y",
            "step": "year",
            "stepmode": "backward"
           },
           {
            "step": "all"
           }
          ]
         },
         "rangeslider": {
          "visible": true
         },
         "title": {
          "text": "ds"
         },
         "type": "date"
        },
        "yaxis": {
         "title": {
          "text": "y"
         }
        }
       }
      }
     },
     "metadata": {},
     "output_type": "display_data"
    }
   ],
   "source": [
    "# visualizar predicciones\n",
    "fyv_plot_1 = plot_plotly(m, preds_prophet_fyv)\n",
    "\n",
    "fyv_plot_1"
   ]
  },
  {
   "cell_type": "code",
   "execution_count": 15,
   "metadata": {},
   "outputs": [
    {
     "data": {
      "application/vnd.plotly.v1+json": {
       "config": {
        "plotlyServerURL": "https://plot.ly"
       },
       "data": [
        {
         "line": {
          "color": "#0072B2",
          "width": 2
         },
         "mode": "lines",
         "name": "trend",
         "type": "scatter",
         "x": [
          "2023-01-02T00:00:00",
          "2023-01-03T00:00:00",
          "2023-01-04T00:00:00",
          "2023-01-05T00:00:00",
          "2023-01-07T00:00:00",
          "2023-01-09T00:00:00",
          "2023-01-10T00:00:00",
          "2023-01-11T00:00:00",
          "2023-01-12T00:00:00",
          "2023-01-13T00:00:00",
          "2023-01-14T00:00:00",
          "2023-01-16T00:00:00",
          "2023-01-17T00:00:00",
          "2023-01-18T00:00:00",
          "2023-01-19T00:00:00",
          "2023-01-20T00:00:00",
          "2023-01-21T00:00:00",
          "2023-01-23T00:00:00",
          "2023-01-24T00:00:00",
          "2023-01-25T00:00:00",
          "2023-01-26T00:00:00",
          "2023-01-27T00:00:00",
          "2023-01-28T00:00:00",
          "2023-01-30T00:00:00",
          "2023-01-31T00:00:00",
          "2023-02-01T00:00:00",
          "2023-02-02T00:00:00",
          "2023-02-03T00:00:00",
          "2023-02-04T00:00:00",
          "2023-02-06T00:00:00",
          "2023-02-07T00:00:00",
          "2023-02-08T00:00:00",
          "2023-02-09T00:00:00",
          "2023-02-10T00:00:00",
          "2023-02-11T00:00:00",
          "2023-02-13T00:00:00",
          "2023-02-14T00:00:00",
          "2023-02-15T00:00:00",
          "2023-02-16T00:00:00",
          "2023-02-17T00:00:00",
          "2023-02-18T00:00:00",
          "2023-02-20T00:00:00",
          "2023-02-21T00:00:00",
          "2023-02-22T00:00:00",
          "2023-02-23T00:00:00",
          "2023-02-24T00:00:00",
          "2023-02-25T00:00:00",
          "2023-02-27T00:00:00",
          "2023-02-28T00:00:00",
          "2023-03-01T00:00:00",
          "2023-03-02T00:00:00",
          "2023-03-03T00:00:00",
          "2023-03-04T00:00:00",
          "2023-03-06T00:00:00",
          "2023-03-07T00:00:00",
          "2023-03-08T00:00:00",
          "2023-03-09T00:00:00",
          "2023-03-10T00:00:00",
          "2023-03-11T00:00:00",
          "2023-03-13T00:00:00",
          "2023-03-14T00:00:00",
          "2023-03-15T00:00:00",
          "2023-03-16T00:00:00",
          "2023-03-17T00:00:00",
          "2023-03-18T00:00:00",
          "2023-03-20T00:00:00",
          "2023-03-21T00:00:00",
          "2023-03-22T00:00:00",
          "2023-03-23T00:00:00",
          "2023-03-24T00:00:00",
          "2023-03-25T00:00:00",
          "2023-03-27T00:00:00",
          "2023-03-28T00:00:00",
          "2023-03-29T00:00:00",
          "2023-03-30T00:00:00",
          "2023-03-31T00:00:00",
          "2023-04-01T00:00:00",
          "2023-04-03T00:00:00",
          "2023-04-04T00:00:00",
          "2023-04-05T00:00:00",
          "2023-04-08T00:00:00",
          "2023-04-10T00:00:00",
          "2023-04-11T00:00:00",
          "2023-04-12T00:00:00",
          "2023-04-13T00:00:00",
          "2023-04-14T00:00:00",
          "2023-04-15T00:00:00",
          "2023-04-17T00:00:00",
          "2023-04-18T00:00:00",
          "2023-04-19T00:00:00",
          "2023-04-20T00:00:00",
          "2023-04-21T00:00:00",
          "2023-04-22T00:00:00",
          "2023-04-24T00:00:00",
          "2023-04-25T00:00:00",
          "2023-04-26T00:00:00",
          "2023-04-27T00:00:00",
          "2023-04-28T00:00:00",
          "2023-04-29T00:00:00",
          "2023-05-02T00:00:00",
          "2023-05-03T00:00:00",
          "2023-05-04T00:00:00",
          "2023-05-05T00:00:00",
          "2023-05-06T00:00:00",
          "2023-05-08T00:00:00",
          "2023-05-09T00:00:00",
          "2023-05-10T00:00:00",
          "2023-05-11T00:00:00",
          "2023-05-12T00:00:00",
          "2023-05-13T00:00:00",
          "2023-05-15T00:00:00",
          "2023-05-16T00:00:00",
          "2023-05-17T00:00:00",
          "2023-05-18T00:00:00",
          "2023-05-19T00:00:00",
          "2023-05-20T00:00:00",
          "2023-05-22T00:00:00",
          "2023-05-23T00:00:00",
          "2023-05-24T00:00:00",
          "2023-05-25T00:00:00",
          "2023-05-26T00:00:00",
          "2023-05-27T00:00:00",
          "2023-05-29T00:00:00",
          "2023-05-30T00:00:00",
          "2023-05-31T00:00:00",
          "2023-06-01T00:00:00",
          "2023-06-02T00:00:00",
          "2023-06-03T00:00:00",
          "2023-06-04T00:00:00",
          "2023-06-05T00:00:00",
          "2023-06-06T00:00:00",
          "2023-06-07T00:00:00",
          "2023-06-08T00:00:00",
          "2023-06-09T00:00:00",
          "2023-06-10T00:00:00",
          "2023-06-11T00:00:00",
          "2023-06-12T00:00:00",
          "2023-06-13T00:00:00",
          "2023-06-14T00:00:00",
          "2023-06-15T00:00:00",
          "2023-06-16T00:00:00",
          "2023-06-17T00:00:00",
          "2023-06-18T00:00:00",
          "2023-06-19T00:00:00",
          "2023-06-20T00:00:00",
          "2023-06-21T00:00:00",
          "2023-06-22T00:00:00",
          "2023-06-23T00:00:00",
          "2023-06-24T00:00:00",
          "2023-06-25T00:00:00",
          "2023-06-26T00:00:00",
          "2023-06-27T00:00:00",
          "2023-06-28T00:00:00",
          "2023-06-29T00:00:00",
          "2023-06-30T00:00:00"
         ],
         "xaxis": "x",
         "y": [
          3691.55836,
          3691.569650450537,
          3691.580940901074,
          3691.592231351611,
          3691.6148122526847,
          3691.6373931863714,
          3691.648683653215,
          3691.659974120058,
          3691.6712645869006,
          3691.682554975549,
          3691.6938453641974,
          3691.716426141494,
          3691.7277165301416,
          3691.739006972113,
          3691.7502974140843,
          3691.7615878560564,
          3691.772878298028,
          3691.7954592024607,
          3691.8067496546773,
          3691.8180401068935,
          3691.82933055911,
          3691.8406209396726,
          3691.8519113202356,
          3691.8744920813606,
          3691.8857824619236,
          3691.897072955519,
          3691.908363449115,
          3691.9196539427107,
          3691.930944436307,
          3691.9535251612947,
          3691.9648155237887,
          3691.9761058862828,
          3691.987396248777,
          3691.998686598883,
          3692.0099769489902,
          3692.0325576492037,
          3692.04384799931,
          3692.0551384114947,
          3692.0664288236785,
          3692.0777192358632,
          3692.089009648047,
          3692.111589926977,
          3692.122880066442,
          3692.1341702059076,
          3692.1454603453726,
          3692.156751079521,
          3692.16804181367,
          3692.1906232819665,
          3692.201914016115,
          3692.2125053839077,
          3692.2230967517003,
          3692.2336881194933,
          3692.2442790640894,
          3692.2654609532815,
          3692.276051897877,
          3692.286642842473,
          3692.26880229217,
          3692.250961741867,
          3692.233121191564,
          3692.197440090957,
          3692.1285363218617,
          3692.0596325527663,
          3691.990728783671,
          3691.921825014576,
          3691.823327884474,
          3691.6263336242696,
          3691.527836494168,
          3691.429339364065,
          3691.047597791011,
          3690.665856217956,
          3690.284114644901,
          3689.5206314987904,
          3688.961805880769,
          3688.4029802627474,
          3687.8441546447266,
          3687.285329026705,
          3686.726502202497,
          3685.6088485540804,
          3685.050021729872,
          3684.4911949056636,
          3682.814706396656,
          3681.6970473906513,
          3681.138217887649,
          3680.579388384647,
          3680.020558572057,
          3679.4617287594674,
          3678.902898946878,
          3677.785239321699,
          3677.226409503223,
          3676.6675796847467,
          3676.1087498662705,
          3675.549920047794,
          3674.9910901958456,
          3673.8734304919476,
          3673.3146006399993,
          3672.75577078805,
          3672.196979695882,
          3671.638188603714,
          3671.0793975115457,
          3669.4030242350423,
          3668.8581666220016,
          3668.3133090089614,
          3667.768451395921,
          3667.22359378288,
          3666.1338785567996,
          3665.5890209437594,
          3665.044163330718,
          3664.499305717678,
          3663.954448104638,
          3663.4095904915966,
          3662.319875265516,
          3661.775017652476,
          3661.230160039435,
          3660.6853024263946,
          3660.1404448133544,
          3659.5955872003137,
          3658.505871974233,
          3657.961014361192,
          3657.416156748152,
          3656.8712991351113,
          3656.3264415220706,
          3655.7815839090304,
          3654.691868682949,
          3654.147011069909,
          3653.6021534568686,
          3653.0572958438274,
          3652.512438230787,
          3651.967580617747,
          3651.4227230047068,
          3650.8778653916656,
          3650.3330077786254,
          3649.788150165585,
          3649.243292552545,
          3648.698434939504,
          3648.1535773264636,
          3647.608719713423,
          3647.0638621003827,
          3646.519004487342,
          3645.9741468743014,
          3645.429289261261,
          3644.8844316482205,
          3644.33957403518,
          3643.7947164221396,
          3643.2498588090994,
          3642.705001196058,
          3642.160143583018,
          3641.615285969978,
          3641.0704283569376,
          3640.5255707438964,
          3639.980713130856,
          3639.435855517816,
          3638.8909979047758,
          3638.3461402917346,
          3637.8012826786944,
          3637.256425065654
         ],
         "yaxis": "y"
        },
        {
         "line": {
          "color": "rgba(0, 114, 178, 0.2)",
          "width": 0
         },
         "mode": "lines",
         "name": "trend_upper",
         "type": "scatter",
         "x": [
          "2023-01-02T00:00:00",
          "2023-01-03T00:00:00",
          "2023-01-04T00:00:00",
          "2023-01-05T00:00:00",
          "2023-01-07T00:00:00",
          "2023-01-09T00:00:00",
          "2023-01-10T00:00:00",
          "2023-01-11T00:00:00",
          "2023-01-12T00:00:00",
          "2023-01-13T00:00:00",
          "2023-01-14T00:00:00",
          "2023-01-16T00:00:00",
          "2023-01-17T00:00:00",
          "2023-01-18T00:00:00",
          "2023-01-19T00:00:00",
          "2023-01-20T00:00:00",
          "2023-01-21T00:00:00",
          "2023-01-23T00:00:00",
          "2023-01-24T00:00:00",
          "2023-01-25T00:00:00",
          "2023-01-26T00:00:00",
          "2023-01-27T00:00:00",
          "2023-01-28T00:00:00",
          "2023-01-30T00:00:00",
          "2023-01-31T00:00:00",
          "2023-02-01T00:00:00",
          "2023-02-02T00:00:00",
          "2023-02-03T00:00:00",
          "2023-02-04T00:00:00",
          "2023-02-06T00:00:00",
          "2023-02-07T00:00:00",
          "2023-02-08T00:00:00",
          "2023-02-09T00:00:00",
          "2023-02-10T00:00:00",
          "2023-02-11T00:00:00",
          "2023-02-13T00:00:00",
          "2023-02-14T00:00:00",
          "2023-02-15T00:00:00",
          "2023-02-16T00:00:00",
          "2023-02-17T00:00:00",
          "2023-02-18T00:00:00",
          "2023-02-20T00:00:00",
          "2023-02-21T00:00:00",
          "2023-02-22T00:00:00",
          "2023-02-23T00:00:00",
          "2023-02-24T00:00:00",
          "2023-02-25T00:00:00",
          "2023-02-27T00:00:00",
          "2023-02-28T00:00:00",
          "2023-03-01T00:00:00",
          "2023-03-02T00:00:00",
          "2023-03-03T00:00:00",
          "2023-03-04T00:00:00",
          "2023-03-06T00:00:00",
          "2023-03-07T00:00:00",
          "2023-03-08T00:00:00",
          "2023-03-09T00:00:00",
          "2023-03-10T00:00:00",
          "2023-03-11T00:00:00",
          "2023-03-13T00:00:00",
          "2023-03-14T00:00:00",
          "2023-03-15T00:00:00",
          "2023-03-16T00:00:00",
          "2023-03-17T00:00:00",
          "2023-03-18T00:00:00",
          "2023-03-20T00:00:00",
          "2023-03-21T00:00:00",
          "2023-03-22T00:00:00",
          "2023-03-23T00:00:00",
          "2023-03-24T00:00:00",
          "2023-03-25T00:00:00",
          "2023-03-27T00:00:00",
          "2023-03-28T00:00:00",
          "2023-03-29T00:00:00",
          "2023-03-30T00:00:00",
          "2023-03-31T00:00:00",
          "2023-04-01T00:00:00",
          "2023-04-03T00:00:00",
          "2023-04-04T00:00:00",
          "2023-04-05T00:00:00",
          "2023-04-08T00:00:00",
          "2023-04-10T00:00:00",
          "2023-04-11T00:00:00",
          "2023-04-12T00:00:00",
          "2023-04-13T00:00:00",
          "2023-04-14T00:00:00",
          "2023-04-15T00:00:00",
          "2023-04-17T00:00:00",
          "2023-04-18T00:00:00",
          "2023-04-19T00:00:00",
          "2023-04-20T00:00:00",
          "2023-04-21T00:00:00",
          "2023-04-22T00:00:00",
          "2023-04-24T00:00:00",
          "2023-04-25T00:00:00",
          "2023-04-26T00:00:00",
          "2023-04-27T00:00:00",
          "2023-04-28T00:00:00",
          "2023-04-29T00:00:00",
          "2023-05-02T00:00:00",
          "2023-05-03T00:00:00",
          "2023-05-04T00:00:00",
          "2023-05-05T00:00:00",
          "2023-05-06T00:00:00",
          "2023-05-08T00:00:00",
          "2023-05-09T00:00:00",
          "2023-05-10T00:00:00",
          "2023-05-11T00:00:00",
          "2023-05-12T00:00:00",
          "2023-05-13T00:00:00",
          "2023-05-15T00:00:00",
          "2023-05-16T00:00:00",
          "2023-05-17T00:00:00",
          "2023-05-18T00:00:00",
          "2023-05-19T00:00:00",
          "2023-05-20T00:00:00",
          "2023-05-22T00:00:00",
          "2023-05-23T00:00:00",
          "2023-05-24T00:00:00",
          "2023-05-25T00:00:00",
          "2023-05-26T00:00:00",
          "2023-05-27T00:00:00",
          "2023-05-29T00:00:00",
          "2023-05-30T00:00:00",
          "2023-05-31T00:00:00",
          "2023-06-01T00:00:00",
          "2023-06-02T00:00:00",
          "2023-06-03T00:00:00",
          "2023-06-04T00:00:00",
          "2023-06-05T00:00:00",
          "2023-06-06T00:00:00",
          "2023-06-07T00:00:00",
          "2023-06-08T00:00:00",
          "2023-06-09T00:00:00",
          "2023-06-10T00:00:00",
          "2023-06-11T00:00:00",
          "2023-06-12T00:00:00",
          "2023-06-13T00:00:00",
          "2023-06-14T00:00:00",
          "2023-06-15T00:00:00",
          "2023-06-16T00:00:00",
          "2023-06-17T00:00:00",
          "2023-06-18T00:00:00",
          "2023-06-19T00:00:00",
          "2023-06-20T00:00:00",
          "2023-06-21T00:00:00",
          "2023-06-22T00:00:00",
          "2023-06-23T00:00:00",
          "2023-06-24T00:00:00",
          "2023-06-25T00:00:00",
          "2023-06-26T00:00:00",
          "2023-06-27T00:00:00",
          "2023-06-28T00:00:00",
          "2023-06-29T00:00:00",
          "2023-06-30T00:00:00"
         ],
         "xaxis": "x",
         "y": [
          3691.55836,
          3691.569650450537,
          3691.580940901074,
          3691.592231351611,
          3691.6148122526847,
          3691.6373931863714,
          3691.648683653215,
          3691.659974120058,
          3691.6712645869006,
          3691.682554975549,
          3691.6938453641974,
          3691.716426141494,
          3691.7277165301416,
          3691.739006972113,
          3691.7502974140843,
          3691.7615878560564,
          3691.772878298028,
          3691.7954592024607,
          3691.8067496546773,
          3691.8180401068935,
          3691.82933055911,
          3691.8406209396726,
          3691.8519113202356,
          3691.8744920813606,
          3691.8857824619236,
          3691.897072955519,
          3691.908363449115,
          3691.9196539427107,
          3691.930944436307,
          3691.9535251612947,
          3691.9648155237887,
          3691.9761058862828,
          3691.987396248777,
          3691.998686598883,
          3692.0099769489902,
          3692.0325576492037,
          3692.04384799931,
          3692.0551384114947,
          3692.0664288236785,
          3692.0777192358632,
          3692.089009648047,
          3692.111589926977,
          3692.122880066442,
          3692.1341702059076,
          3692.1454603453726,
          3692.156751079521,
          3692.16804181367,
          3692.1906232819665,
          3692.201914016115,
          3692.2125053839077,
          3692.2230967517003,
          3692.2336881194933,
          3692.2442790640894,
          3692.2654609532815,
          3692.276051897877,
          3692.286642842473,
          3692.26880229217,
          3692.250961741867,
          3692.233121191564,
          3692.197440090957,
          3692.1285363218617,
          3692.0596325527663,
          3691.990728783671,
          3691.921825014576,
          3691.823327884474,
          3691.6263336242696,
          3691.527836494168,
          3691.429339364065,
          3691.047597791011,
          3690.665856217956,
          3690.284114644901,
          3689.5206314987904,
          3688.961805880769,
          3688.4029802627474,
          3687.8441546447266,
          3687.285329026705,
          3686.726502202497,
          3685.6088485540804,
          3685.050021729872,
          3684.4911949056636,
          3682.814706396656,
          3681.6970473906513,
          3681.138217887649,
          3680.579388384647,
          3680.020558572057,
          3679.4617287594674,
          3678.902898946878,
          3677.785239321699,
          3677.226409503223,
          3676.6675796847467,
          3676.1087498662705,
          3675.549920047794,
          3674.9910901958456,
          3673.8734304919476,
          3673.3146006399993,
          3672.75577078805,
          3672.196979695882,
          3671.638188603714,
          3671.0793975115457,
          3669.4030242350423,
          3668.8581666220016,
          3668.3133090089614,
          3667.768451395921,
          3667.22359378288,
          3666.1338785567996,
          3665.5890209437594,
          3665.044163330718,
          3664.499305717678,
          3663.954448104638,
          3663.4095904915966,
          3662.319875265516,
          3661.775017652476,
          3661.230160039435,
          3660.6853024263946,
          3660.1404448133544,
          3659.5955872003137,
          3658.505871974233,
          3657.961014361192,
          3657.416156748152,
          3656.8712991351113,
          3656.3264415220706,
          3655.7815839090304,
          3654.691868682949,
          3654.147011069909,
          3653.6021534568686,
          3653.0572958438274,
          3652.5201108878437,
          3651.992318705013,
          3651.46984011812,
          3650.952024002486,
          3650.435896714401,
          3649.922947141361,
          3649.4084184731937,
          3648.903892635704,
          3648.3866172327243,
          3647.8928045025395,
          3647.394121613335,
          3646.897079423581,
          3646.404697299639,
          3645.9314905805318,
          3645.4342903029647,
          3644.9423313343204,
          3644.4583451764765,
          3643.9883878044193,
          3643.4917779236766,
          3643.0197975008955,
          3642.529938532778,
          3642.0326080424966,
          3641.547647526976,
          3641.0842605797116,
          3640.612083769518,
          3640.1522631122957,
          3639.676421877508,
          3639.22107162529,
          3638.804090870833
         ],
         "yaxis": "y"
        },
        {
         "fill": "tonexty",
         "fillcolor": "rgba(0, 114, 178, 0.2)",
         "line": {
          "color": "rgba(0, 114, 178, 0.2)",
          "width": 0
         },
         "mode": "lines",
         "name": "trend_lower",
         "type": "scatter",
         "x": [
          "2023-01-02T00:00:00",
          "2023-01-03T00:00:00",
          "2023-01-04T00:00:00",
          "2023-01-05T00:00:00",
          "2023-01-07T00:00:00",
          "2023-01-09T00:00:00",
          "2023-01-10T00:00:00",
          "2023-01-11T00:00:00",
          "2023-01-12T00:00:00",
          "2023-01-13T00:00:00",
          "2023-01-14T00:00:00",
          "2023-01-16T00:00:00",
          "2023-01-17T00:00:00",
          "2023-01-18T00:00:00",
          "2023-01-19T00:00:00",
          "2023-01-20T00:00:00",
          "2023-01-21T00:00:00",
          "2023-01-23T00:00:00",
          "2023-01-24T00:00:00",
          "2023-01-25T00:00:00",
          "2023-01-26T00:00:00",
          "2023-01-27T00:00:00",
          "2023-01-28T00:00:00",
          "2023-01-30T00:00:00",
          "2023-01-31T00:00:00",
          "2023-02-01T00:00:00",
          "2023-02-02T00:00:00",
          "2023-02-03T00:00:00",
          "2023-02-04T00:00:00",
          "2023-02-06T00:00:00",
          "2023-02-07T00:00:00",
          "2023-02-08T00:00:00",
          "2023-02-09T00:00:00",
          "2023-02-10T00:00:00",
          "2023-02-11T00:00:00",
          "2023-02-13T00:00:00",
          "2023-02-14T00:00:00",
          "2023-02-15T00:00:00",
          "2023-02-16T00:00:00",
          "2023-02-17T00:00:00",
          "2023-02-18T00:00:00",
          "2023-02-20T00:00:00",
          "2023-02-21T00:00:00",
          "2023-02-22T00:00:00",
          "2023-02-23T00:00:00",
          "2023-02-24T00:00:00",
          "2023-02-25T00:00:00",
          "2023-02-27T00:00:00",
          "2023-02-28T00:00:00",
          "2023-03-01T00:00:00",
          "2023-03-02T00:00:00",
          "2023-03-03T00:00:00",
          "2023-03-04T00:00:00",
          "2023-03-06T00:00:00",
          "2023-03-07T00:00:00",
          "2023-03-08T00:00:00",
          "2023-03-09T00:00:00",
          "2023-03-10T00:00:00",
          "2023-03-11T00:00:00",
          "2023-03-13T00:00:00",
          "2023-03-14T00:00:00",
          "2023-03-15T00:00:00",
          "2023-03-16T00:00:00",
          "2023-03-17T00:00:00",
          "2023-03-18T00:00:00",
          "2023-03-20T00:00:00",
          "2023-03-21T00:00:00",
          "2023-03-22T00:00:00",
          "2023-03-23T00:00:00",
          "2023-03-24T00:00:00",
          "2023-03-25T00:00:00",
          "2023-03-27T00:00:00",
          "2023-03-28T00:00:00",
          "2023-03-29T00:00:00",
          "2023-03-30T00:00:00",
          "2023-03-31T00:00:00",
          "2023-04-01T00:00:00",
          "2023-04-03T00:00:00",
          "2023-04-04T00:00:00",
          "2023-04-05T00:00:00",
          "2023-04-08T00:00:00",
          "2023-04-10T00:00:00",
          "2023-04-11T00:00:00",
          "2023-04-12T00:00:00",
          "2023-04-13T00:00:00",
          "2023-04-14T00:00:00",
          "2023-04-15T00:00:00",
          "2023-04-17T00:00:00",
          "2023-04-18T00:00:00",
          "2023-04-19T00:00:00",
          "2023-04-20T00:00:00",
          "2023-04-21T00:00:00",
          "2023-04-22T00:00:00",
          "2023-04-24T00:00:00",
          "2023-04-25T00:00:00",
          "2023-04-26T00:00:00",
          "2023-04-27T00:00:00",
          "2023-04-28T00:00:00",
          "2023-04-29T00:00:00",
          "2023-05-02T00:00:00",
          "2023-05-03T00:00:00",
          "2023-05-04T00:00:00",
          "2023-05-05T00:00:00",
          "2023-05-06T00:00:00",
          "2023-05-08T00:00:00",
          "2023-05-09T00:00:00",
          "2023-05-10T00:00:00",
          "2023-05-11T00:00:00",
          "2023-05-12T00:00:00",
          "2023-05-13T00:00:00",
          "2023-05-15T00:00:00",
          "2023-05-16T00:00:00",
          "2023-05-17T00:00:00",
          "2023-05-18T00:00:00",
          "2023-05-19T00:00:00",
          "2023-05-20T00:00:00",
          "2023-05-22T00:00:00",
          "2023-05-23T00:00:00",
          "2023-05-24T00:00:00",
          "2023-05-25T00:00:00",
          "2023-05-26T00:00:00",
          "2023-05-27T00:00:00",
          "2023-05-29T00:00:00",
          "2023-05-30T00:00:00",
          "2023-05-31T00:00:00",
          "2023-06-01T00:00:00",
          "2023-06-02T00:00:00",
          "2023-06-03T00:00:00",
          "2023-06-04T00:00:00",
          "2023-06-05T00:00:00",
          "2023-06-06T00:00:00",
          "2023-06-07T00:00:00",
          "2023-06-08T00:00:00",
          "2023-06-09T00:00:00",
          "2023-06-10T00:00:00",
          "2023-06-11T00:00:00",
          "2023-06-12T00:00:00",
          "2023-06-13T00:00:00",
          "2023-06-14T00:00:00",
          "2023-06-15T00:00:00",
          "2023-06-16T00:00:00",
          "2023-06-17T00:00:00",
          "2023-06-18T00:00:00",
          "2023-06-19T00:00:00",
          "2023-06-20T00:00:00",
          "2023-06-21T00:00:00",
          "2023-06-22T00:00:00",
          "2023-06-23T00:00:00",
          "2023-06-24T00:00:00",
          "2023-06-25T00:00:00",
          "2023-06-26T00:00:00",
          "2023-06-27T00:00:00",
          "2023-06-28T00:00:00",
          "2023-06-29T00:00:00",
          "2023-06-30T00:00:00"
         ],
         "xaxis": "x",
         "y": [
          3691.55836,
          3691.569650450537,
          3691.580940901074,
          3691.592231351611,
          3691.6148122526847,
          3691.6373931863714,
          3691.648683653215,
          3691.659974120058,
          3691.6712645869006,
          3691.682554975549,
          3691.6938453641974,
          3691.716426141494,
          3691.7277165301416,
          3691.739006972113,
          3691.7502974140843,
          3691.7615878560564,
          3691.772878298028,
          3691.7954592024607,
          3691.8067496546773,
          3691.8180401068935,
          3691.82933055911,
          3691.8406209396726,
          3691.8519113202356,
          3691.8744920813606,
          3691.8857824619236,
          3691.897072955519,
          3691.908363449115,
          3691.9196539427107,
          3691.930944436307,
          3691.9535251612947,
          3691.9648155237887,
          3691.9761058862828,
          3691.987396248777,
          3691.998686598883,
          3692.0099769489902,
          3692.0325576492037,
          3692.04384799931,
          3692.0551384114947,
          3692.0664288236785,
          3692.0777192358632,
          3692.089009648047,
          3692.111589926977,
          3692.122880066442,
          3692.1341702059076,
          3692.1454603453726,
          3692.156751079521,
          3692.16804181367,
          3692.1906232819665,
          3692.201914016115,
          3692.2125053839077,
          3692.2230967517003,
          3692.2336881194933,
          3692.2442790640894,
          3692.2654609532815,
          3692.276051897877,
          3692.286642842473,
          3692.26880229217,
          3692.250961741867,
          3692.233121191564,
          3692.197440090957,
          3692.1285363218617,
          3692.0596325527663,
          3691.990728783671,
          3691.921825014576,
          3691.823327884474,
          3691.6263336242696,
          3691.527836494168,
          3691.429339364065,
          3691.047597791011,
          3690.665856217956,
          3690.284114644901,
          3689.5206314987904,
          3688.961805880769,
          3688.4029802627474,
          3687.8441546447266,
          3687.285329026705,
          3686.726502202497,
          3685.6088485540804,
          3685.050021729872,
          3684.4911949056636,
          3682.814706396656,
          3681.6970473906513,
          3681.138217887649,
          3680.579388384647,
          3680.020558572057,
          3679.4617287594674,
          3678.902898946878,
          3677.785239321699,
          3677.226409503223,
          3676.6675796847467,
          3676.1087498662705,
          3675.549920047794,
          3674.9910901958456,
          3673.8734304919476,
          3673.3146006399993,
          3672.75577078805,
          3672.196979695882,
          3671.638188603714,
          3671.0793975115457,
          3669.4030242350423,
          3668.8581666220016,
          3668.3133090089614,
          3667.768451395921,
          3667.22359378288,
          3666.1338785567996,
          3665.5890209437594,
          3665.044163330718,
          3664.499305717678,
          3663.954448104638,
          3663.4095904915966,
          3662.319875265516,
          3661.775017652476,
          3661.230160039435,
          3660.6853024263946,
          3660.1404448133544,
          3659.5955872003137,
          3658.505871974233,
          3657.961014361192,
          3657.416156748152,
          3656.8712991351113,
          3656.3264415220706,
          3655.7815839090304,
          3654.691868682949,
          3654.147011069909,
          3653.6021534568686,
          3653.0572958438274,
          3652.5054372651625,
          3651.9440564895376,
          3651.380219097359,
          3650.8098384192776,
          3650.2322257965216,
          3649.6553457243454,
          3649.069986548787,
          3648.4804925856433,
          3647.8867025226136,
          3647.293602233183,
          3646.7005811886215,
          3646.1042673770544,
          3645.5124787475343,
          3644.945214668153,
          3644.3667738756467,
          3643.7656290816594,
          3643.152863523022,
          3642.5452388657877,
          3641.9248372102666,
          3641.3112777628853,
          3640.6974388315502,
          3640.07168296384,
          3639.468357651263,
          3638.866298561362,
          3638.2581200361096,
          3637.607859676212,
          3636.984407726769,
          3636.370861899925,
          3635.736481156092
         ],
         "yaxis": "y"
        },
        {
         "line": {
          "color": "#0072B2",
          "width": 2
         },
         "mode": "lines",
         "name": "weekly",
         "type": "scatter",
         "x": [
          "2017-01-01T00:00:00",
          "2017-01-02T00:00:00",
          "2017-01-03T00:00:00",
          "2017-01-04T00:00:00",
          "2017-01-05T00:00:00",
          "2017-01-06T00:00:00",
          "2017-01-07T00:00:00"
         ],
         "xaxis": "x2",
         "y": [
          62.09707212484898,
          -69.5614156360481,
          -1043.8724103756297,
          -616.465031525064,
          -1060.8082719990316,
          743.1719360112037,
          1985.438121399533
         ],
         "yaxis": "y2"
        }
       ],
       "layout": {
        "height": 400,
        "showlegend": false,
        "template": {
         "data": {
          "bar": [
           {
            "error_x": {
             "color": "#2a3f5f"
            },
            "error_y": {
             "color": "#2a3f5f"
            },
            "marker": {
             "line": {
              "color": "#E5ECF6",
              "width": 0.5
             },
             "pattern": {
              "fillmode": "overlay",
              "size": 10,
              "solidity": 0.2
             }
            },
            "type": "bar"
           }
          ],
          "barpolar": [
           {
            "marker": {
             "line": {
              "color": "#E5ECF6",
              "width": 0.5
             },
             "pattern": {
              "fillmode": "overlay",
              "size": 10,
              "solidity": 0.2
             }
            },
            "type": "barpolar"
           }
          ],
          "carpet": [
           {
            "aaxis": {
             "endlinecolor": "#2a3f5f",
             "gridcolor": "white",
             "linecolor": "white",
             "minorgridcolor": "white",
             "startlinecolor": "#2a3f5f"
            },
            "baxis": {
             "endlinecolor": "#2a3f5f",
             "gridcolor": "white",
             "linecolor": "white",
             "minorgridcolor": "white",
             "startlinecolor": "#2a3f5f"
            },
            "type": "carpet"
           }
          ],
          "choropleth": [
           {
            "colorbar": {
             "outlinewidth": 0,
             "ticks": ""
            },
            "type": "choropleth"
           }
          ],
          "contour": [
           {
            "colorbar": {
             "outlinewidth": 0,
             "ticks": ""
            },
            "colorscale": [
             [
              0,
              "#0d0887"
             ],
             [
              0.1111111111111111,
              "#46039f"
             ],
             [
              0.2222222222222222,
              "#7201a8"
             ],
             [
              0.3333333333333333,
              "#9c179e"
             ],
             [
              0.4444444444444444,
              "#bd3786"
             ],
             [
              0.5555555555555556,
              "#d8576b"
             ],
             [
              0.6666666666666666,
              "#ed7953"
             ],
             [
              0.7777777777777778,
              "#fb9f3a"
             ],
             [
              0.8888888888888888,
              "#fdca26"
             ],
             [
              1,
              "#f0f921"
             ]
            ],
            "type": "contour"
           }
          ],
          "contourcarpet": [
           {
            "colorbar": {
             "outlinewidth": 0,
             "ticks": ""
            },
            "type": "contourcarpet"
           }
          ],
          "heatmap": [
           {
            "colorbar": {
             "outlinewidth": 0,
             "ticks": ""
            },
            "colorscale": [
             [
              0,
              "#0d0887"
             ],
             [
              0.1111111111111111,
              "#46039f"
             ],
             [
              0.2222222222222222,
              "#7201a8"
             ],
             [
              0.3333333333333333,
              "#9c179e"
             ],
             [
              0.4444444444444444,
              "#bd3786"
             ],
             [
              0.5555555555555556,
              "#d8576b"
             ],
             [
              0.6666666666666666,
              "#ed7953"
             ],
             [
              0.7777777777777778,
              "#fb9f3a"
             ],
             [
              0.8888888888888888,
              "#fdca26"
             ],
             [
              1,
              "#f0f921"
             ]
            ],
            "type": "heatmap"
           }
          ],
          "heatmapgl": [
           {
            "colorbar": {
             "outlinewidth": 0,
             "ticks": ""
            },
            "colorscale": [
             [
              0,
              "#0d0887"
             ],
             [
              0.1111111111111111,
              "#46039f"
             ],
             [
              0.2222222222222222,
              "#7201a8"
             ],
             [
              0.3333333333333333,
              "#9c179e"
             ],
             [
              0.4444444444444444,
              "#bd3786"
             ],
             [
              0.5555555555555556,
              "#d8576b"
             ],
             [
              0.6666666666666666,
              "#ed7953"
             ],
             [
              0.7777777777777778,
              "#fb9f3a"
             ],
             [
              0.8888888888888888,
              "#fdca26"
             ],
             [
              1,
              "#f0f921"
             ]
            ],
            "type": "heatmapgl"
           }
          ],
          "histogram": [
           {
            "marker": {
             "pattern": {
              "fillmode": "overlay",
              "size": 10,
              "solidity": 0.2
             }
            },
            "type": "histogram"
           }
          ],
          "histogram2d": [
           {
            "colorbar": {
             "outlinewidth": 0,
             "ticks": ""
            },
            "colorscale": [
             [
              0,
              "#0d0887"
             ],
             [
              0.1111111111111111,
              "#46039f"
             ],
             [
              0.2222222222222222,
              "#7201a8"
             ],
             [
              0.3333333333333333,
              "#9c179e"
             ],
             [
              0.4444444444444444,
              "#bd3786"
             ],
             [
              0.5555555555555556,
              "#d8576b"
             ],
             [
              0.6666666666666666,
              "#ed7953"
             ],
             [
              0.7777777777777778,
              "#fb9f3a"
             ],
             [
              0.8888888888888888,
              "#fdca26"
             ],
             [
              1,
              "#f0f921"
             ]
            ],
            "type": "histogram2d"
           }
          ],
          "histogram2dcontour": [
           {
            "colorbar": {
             "outlinewidth": 0,
             "ticks": ""
            },
            "colorscale": [
             [
              0,
              "#0d0887"
             ],
             [
              0.1111111111111111,
              "#46039f"
             ],
             [
              0.2222222222222222,
              "#7201a8"
             ],
             [
              0.3333333333333333,
              "#9c179e"
             ],
             [
              0.4444444444444444,
              "#bd3786"
             ],
             [
              0.5555555555555556,
              "#d8576b"
             ],
             [
              0.6666666666666666,
              "#ed7953"
             ],
             [
              0.7777777777777778,
              "#fb9f3a"
             ],
             [
              0.8888888888888888,
              "#fdca26"
             ],
             [
              1,
              "#f0f921"
             ]
            ],
            "type": "histogram2dcontour"
           }
          ],
          "mesh3d": [
           {
            "colorbar": {
             "outlinewidth": 0,
             "ticks": ""
            },
            "type": "mesh3d"
           }
          ],
          "parcoords": [
           {
            "line": {
             "colorbar": {
              "outlinewidth": 0,
              "ticks": ""
             }
            },
            "type": "parcoords"
           }
          ],
          "pie": [
           {
            "automargin": true,
            "type": "pie"
           }
          ],
          "scatter": [
           {
            "fillpattern": {
             "fillmode": "overlay",
             "size": 10,
             "solidity": 0.2
            },
            "type": "scatter"
           }
          ],
          "scatter3d": [
           {
            "line": {
             "colorbar": {
              "outlinewidth": 0,
              "ticks": ""
             }
            },
            "marker": {
             "colorbar": {
              "outlinewidth": 0,
              "ticks": ""
             }
            },
            "type": "scatter3d"
           }
          ],
          "scattercarpet": [
           {
            "marker": {
             "colorbar": {
              "outlinewidth": 0,
              "ticks": ""
             }
            },
            "type": "scattercarpet"
           }
          ],
          "scattergeo": [
           {
            "marker": {
             "colorbar": {
              "outlinewidth": 0,
              "ticks": ""
             }
            },
            "type": "scattergeo"
           }
          ],
          "scattergl": [
           {
            "marker": {
             "colorbar": {
              "outlinewidth": 0,
              "ticks": ""
             }
            },
            "type": "scattergl"
           }
          ],
          "scattermapbox": [
           {
            "marker": {
             "colorbar": {
              "outlinewidth": 0,
              "ticks": ""
             }
            },
            "type": "scattermapbox"
           }
          ],
          "scatterpolar": [
           {
            "marker": {
             "colorbar": {
              "outlinewidth": 0,
              "ticks": ""
             }
            },
            "type": "scatterpolar"
           }
          ],
          "scatterpolargl": [
           {
            "marker": {
             "colorbar": {
              "outlinewidth": 0,
              "ticks": ""
             }
            },
            "type": "scatterpolargl"
           }
          ],
          "scatterternary": [
           {
            "marker": {
             "colorbar": {
              "outlinewidth": 0,
              "ticks": ""
             }
            },
            "type": "scatterternary"
           }
          ],
          "surface": [
           {
            "colorbar": {
             "outlinewidth": 0,
             "ticks": ""
            },
            "colorscale": [
             [
              0,
              "#0d0887"
             ],
             [
              0.1111111111111111,
              "#46039f"
             ],
             [
              0.2222222222222222,
              "#7201a8"
             ],
             [
              0.3333333333333333,
              "#9c179e"
             ],
             [
              0.4444444444444444,
              "#bd3786"
             ],
             [
              0.5555555555555556,
              "#d8576b"
             ],
             [
              0.6666666666666666,
              "#ed7953"
             ],
             [
              0.7777777777777778,
              "#fb9f3a"
             ],
             [
              0.8888888888888888,
              "#fdca26"
             ],
             [
              1,
              "#f0f921"
             ]
            ],
            "type": "surface"
           }
          ],
          "table": [
           {
            "cells": {
             "fill": {
              "color": "#EBF0F8"
             },
             "line": {
              "color": "white"
             }
            },
            "header": {
             "fill": {
              "color": "#C8D4E3"
             },
             "line": {
              "color": "white"
             }
            },
            "type": "table"
           }
          ]
         },
         "layout": {
          "annotationdefaults": {
           "arrowcolor": "#2a3f5f",
           "arrowhead": 0,
           "arrowwidth": 1
          },
          "autotypenumbers": "strict",
          "coloraxis": {
           "colorbar": {
            "outlinewidth": 0,
            "ticks": ""
           }
          },
          "colorscale": {
           "diverging": [
            [
             0,
             "#8e0152"
            ],
            [
             0.1,
             "#c51b7d"
            ],
            [
             0.2,
             "#de77ae"
            ],
            [
             0.3,
             "#f1b6da"
            ],
            [
             0.4,
             "#fde0ef"
            ],
            [
             0.5,
             "#f7f7f7"
            ],
            [
             0.6,
             "#e6f5d0"
            ],
            [
             0.7,
             "#b8e186"
            ],
            [
             0.8,
             "#7fbc41"
            ],
            [
             0.9,
             "#4d9221"
            ],
            [
             1,
             "#276419"
            ]
           ],
           "sequential": [
            [
             0,
             "#0d0887"
            ],
            [
             0.1111111111111111,
             "#46039f"
            ],
            [
             0.2222222222222222,
             "#7201a8"
            ],
            [
             0.3333333333333333,
             "#9c179e"
            ],
            [
             0.4444444444444444,
             "#bd3786"
            ],
            [
             0.5555555555555556,
             "#d8576b"
            ],
            [
             0.6666666666666666,
             "#ed7953"
            ],
            [
             0.7777777777777778,
             "#fb9f3a"
            ],
            [
             0.8888888888888888,
             "#fdca26"
            ],
            [
             1,
             "#f0f921"
            ]
           ],
           "sequentialminus": [
            [
             0,
             "#0d0887"
            ],
            [
             0.1111111111111111,
             "#46039f"
            ],
            [
             0.2222222222222222,
             "#7201a8"
            ],
            [
             0.3333333333333333,
             "#9c179e"
            ],
            [
             0.4444444444444444,
             "#bd3786"
            ],
            [
             0.5555555555555556,
             "#d8576b"
            ],
            [
             0.6666666666666666,
             "#ed7953"
            ],
            [
             0.7777777777777778,
             "#fb9f3a"
            ],
            [
             0.8888888888888888,
             "#fdca26"
            ],
            [
             1,
             "#f0f921"
            ]
           ]
          },
          "colorway": [
           "#636efa",
           "#EF553B",
           "#00cc96",
           "#ab63fa",
           "#FFA15A",
           "#19d3f3",
           "#FF6692",
           "#B6E880",
           "#FF97FF",
           "#FECB52"
          ],
          "font": {
           "color": "#2a3f5f"
          },
          "geo": {
           "bgcolor": "white",
           "lakecolor": "white",
           "landcolor": "#E5ECF6",
           "showlakes": true,
           "showland": true,
           "subunitcolor": "white"
          },
          "hoverlabel": {
           "align": "left"
          },
          "hovermode": "closest",
          "mapbox": {
           "style": "light"
          },
          "paper_bgcolor": "white",
          "plot_bgcolor": "#E5ECF6",
          "polar": {
           "angularaxis": {
            "gridcolor": "white",
            "linecolor": "white",
            "ticks": ""
           },
           "bgcolor": "#E5ECF6",
           "radialaxis": {
            "gridcolor": "white",
            "linecolor": "white",
            "ticks": ""
           }
          },
          "scene": {
           "xaxis": {
            "backgroundcolor": "#E5ECF6",
            "gridcolor": "white",
            "gridwidth": 2,
            "linecolor": "white",
            "showbackground": true,
            "ticks": "",
            "zerolinecolor": "white"
           },
           "yaxis": {
            "backgroundcolor": "#E5ECF6",
            "gridcolor": "white",
            "gridwidth": 2,
            "linecolor": "white",
            "showbackground": true,
            "ticks": "",
            "zerolinecolor": "white"
           },
           "zaxis": {
            "backgroundcolor": "#E5ECF6",
            "gridcolor": "white",
            "gridwidth": 2,
            "linecolor": "white",
            "showbackground": true,
            "ticks": "",
            "zerolinecolor": "white"
           }
          },
          "shapedefaults": {
           "line": {
            "color": "#2a3f5f"
           }
          },
          "ternary": {
           "aaxis": {
            "gridcolor": "white",
            "linecolor": "white",
            "ticks": ""
           },
           "baxis": {
            "gridcolor": "white",
            "linecolor": "white",
            "ticks": ""
           },
           "bgcolor": "#E5ECF6",
           "caxis": {
            "gridcolor": "white",
            "linecolor": "white",
            "ticks": ""
           }
          },
          "title": {
           "x": 0.05
          },
          "xaxis": {
           "automargin": true,
           "gridcolor": "white",
           "linecolor": "white",
           "ticks": "",
           "title": {
            "standoff": 15
           },
           "zerolinecolor": "white",
           "zerolinewidth": 2
          },
          "yaxis": {
           "automargin": true,
           "gridcolor": "white",
           "linecolor": "white",
           "ticks": "",
           "title": {
            "standoff": 15
           },
           "zerolinecolor": "white",
           "zerolinewidth": 2
          }
         }
        },
        "width": 900,
        "xaxis": {
         "anchor": "y",
         "domain": [
          0,
          1
         ],
         "range": [
          "2022-12-24T01:12:00",
          "2023-07-08T22:48:00"
         ],
         "type": "date"
        },
        "xaxis2": {
         "anchor": "y2",
         "domain": [
          0,
          1
         ],
         "range": [
          "2016-12-31T16:48:00",
          "2017-01-07T07:12:00"
         ],
         "tickformat": "%A",
         "type": "date"
        },
        "yaxis": {
         "anchor": "x",
         "domain": [
          0.575,
          1
         ],
         "rangemode": "normal",
         "title": {
          "text": "trend"
         },
         "zerolinecolor": "#AAA"
        },
        "yaxis2": {
         "anchor": "x2",
         "domain": [
          0,
          0.425
         ],
         "title": {
          "text": "weekly"
         },
         "zerolinecolor": "#AAA"
        }
       }
      }
     },
     "metadata": {},
     "output_type": "display_data"
    }
   ],
   "source": [
    "fyv_plot_2 = plot_components_plotly(m, preds_prophet_fyv)\n",
    "\n",
    "fyv_plot_2"
   ]
  },
  {
   "attachments": {},
   "cell_type": "markdown",
   "metadata": {},
   "source": [
    "## **Exportar predicciones**"
   ]
  },
  {
   "cell_type": "code",
   "execution_count": 22,
   "metadata": {},
   "outputs": [],
   "source": [
    "# exportar predicciones transformadas a \".csv\"\n",
    "ventas_productos.to_csv('../../data/ventas_productos.csv', index=False)"
   ]
  }
 ],
 "metadata": {
  "kernelspec": {
   "display_name": "auto_Pr-PSV",
   "language": "python",
   "name": "python3"
  },
  "language_info": {
   "codemirror_mode": {
    "name": "ipython",
    "version": 3
   },
   "file_extension": ".py",
   "mimetype": "text/x-python",
   "name": "python",
   "nbconvert_exporter": "python",
   "pygments_lexer": "ipython3",
   "version": "3.11.3"
  },
  "orig_nbformat": 4
 },
 "nbformat": 4,
 "nbformat_minor": 2
}
