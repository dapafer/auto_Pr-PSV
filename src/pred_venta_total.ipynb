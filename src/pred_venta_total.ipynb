{
 "cells": [
  {
   "attachments": {},
   "cell_type": "markdown",
   "metadata": {},
   "source": [
    "# **VENTA TOTAL predictions.**"
   ]
  },
  {
   "attachments": {},
   "cell_type": "markdown",
   "metadata": {},
   "source": [
    "## **Importar librerías.**"
   ]
  },
  {
   "cell_type": "code",
   "execution_count": 1,
   "metadata": {},
   "outputs": [],
   "source": [
    "import warnings\n",
    "warnings.filterwarnings('ignore')\n",
    "\n",
    "import pandas as pd\n",
    "\n",
    "from prophet import Prophet"
   ]
  },
  {
   "cell_type": "code",
   "execution_count": 2,
   "metadata": {},
   "outputs": [],
   "source": [
    "cat_fecha_fyv = pd.read_csv('../data/sql/venta_total/categoria/cat_fecha_fyv.csv')\n",
    "\n",
    "cat_lunes_fyv = pd.read_csv('../data/sql/venta_total/categoria/cat_lunes_fyv.csv')\n",
    "cat_martes_fyv = pd.read_csv('../data/sql/venta_total/categoria/cat_martes_fyv.csv')\n",
    "cat_miercoles_fyv = pd.read_csv('../data/sql/venta_total/categoria/cat_miercoles_fyv.csv')\n",
    "cat_jueves_fyv = pd.read_csv('../data/sql/venta_total/categoria/cat_jueves_fyv.csv')\n",
    "cat_viernes_fyv = pd.read_csv('../data/sql/venta_total/categoria/cat_viernes_fyv.csv')\n",
    "cat_sabado_fyv = pd.read_csv('../data/sql/venta_total/categoria/cat_sabado_fyv.csv')"
   ]
  },
  {
   "cell_type": "code",
   "execution_count": 3,
   "metadata": {},
   "outputs": [
    {
     "name": "stdout",
     "output_type": "stream",
     "text": [
      "<class 'pandas.core.frame.DataFrame'>\n",
      "RangeIndex: 124 entries, 0 to 123\n",
      "Data columns (total 4 columns):\n",
      " #   Column       Non-Null Count  Dtype \n",
      "---  ------       --------------  ----- \n",
      " 0   fecha        124 non-null    object\n",
      " 1   dia_semana   124 non-null    object\n",
      " 2   categoria    124 non-null    object\n",
      " 3   venta_total  124 non-null    int64 \n",
      "dtypes: int64(1), object(3)\n",
      "memory usage: 4.0+ KB\n"
     ]
    }
   ],
   "source": [
    "cat_fecha_fyv.info()"
   ]
  },
  {
   "cell_type": "code",
   "execution_count": 4,
   "metadata": {},
   "outputs": [
    {
     "data": {
      "text/html": [
       "<div>\n",
       "<style scoped>\n",
       "    .dataframe tbody tr th:only-of-type {\n",
       "        vertical-align: middle;\n",
       "    }\n",
       "\n",
       "    .dataframe tbody tr th {\n",
       "        vertical-align: top;\n",
       "    }\n",
       "\n",
       "    .dataframe thead th {\n",
       "        text-align: right;\n",
       "    }\n",
       "</style>\n",
       "<table border=\"1\" class=\"dataframe\">\n",
       "  <thead>\n",
       "    <tr style=\"text-align: right;\">\n",
       "      <th></th>\n",
       "      <th>fecha</th>\n",
       "      <th>dia_semana</th>\n",
       "      <th>categoria</th>\n",
       "      <th>venta_total</th>\n",
       "    </tr>\n",
       "  </thead>\n",
       "  <tbody>\n",
       "    <tr>\n",
       "      <th>0</th>\n",
       "      <td>2023-01-02</td>\n",
       "      <td>lunes</td>\n",
       "      <td>Fruta y verdura</td>\n",
       "      <td>4133</td>\n",
       "    </tr>\n",
       "    <tr>\n",
       "      <th>1</th>\n",
       "      <td>2023-01-03</td>\n",
       "      <td>martes</td>\n",
       "      <td>Fruta y verdura</td>\n",
       "      <td>2658</td>\n",
       "    </tr>\n",
       "    <tr>\n",
       "      <th>2</th>\n",
       "      <td>2023-01-04</td>\n",
       "      <td>miércoles</td>\n",
       "      <td>Fruta y verdura</td>\n",
       "      <td>3235</td>\n",
       "    </tr>\n",
       "    <tr>\n",
       "      <th>3</th>\n",
       "      <td>2023-01-05</td>\n",
       "      <td>jueves</td>\n",
       "      <td>Fruta y verdura</td>\n",
       "      <td>2480</td>\n",
       "    </tr>\n",
       "    <tr>\n",
       "      <th>4</th>\n",
       "      <td>2023-01-07</td>\n",
       "      <td>sábado</td>\n",
       "      <td>Fruta y verdura</td>\n",
       "      <td>6360</td>\n",
       "    </tr>\n",
       "    <tr>\n",
       "      <th>...</th>\n",
       "      <td>...</td>\n",
       "      <td>...</td>\n",
       "      <td>...</td>\n",
       "      <td>...</td>\n",
       "    </tr>\n",
       "    <tr>\n",
       "      <th>119</th>\n",
       "      <td>2023-05-25</td>\n",
       "      <td>jueves</td>\n",
       "      <td>Fruta y verdura</td>\n",
       "      <td>2592</td>\n",
       "    </tr>\n",
       "    <tr>\n",
       "      <th>120</th>\n",
       "      <td>2023-05-26</td>\n",
       "      <td>viernes</td>\n",
       "      <td>Fruta y verdura</td>\n",
       "      <td>4995</td>\n",
       "    </tr>\n",
       "    <tr>\n",
       "      <th>121</th>\n",
       "      <td>2023-05-27</td>\n",
       "      <td>sábado</td>\n",
       "      <td>Fruta y verdura</td>\n",
       "      <td>6334</td>\n",
       "    </tr>\n",
       "    <tr>\n",
       "      <th>122</th>\n",
       "      <td>2023-05-29</td>\n",
       "      <td>lunes</td>\n",
       "      <td>Fruta y verdura</td>\n",
       "      <td>4238</td>\n",
       "    </tr>\n",
       "    <tr>\n",
       "      <th>123</th>\n",
       "      <td>2023-05-30</td>\n",
       "      <td>martes</td>\n",
       "      <td>Fruta y verdura</td>\n",
       "      <td>2464</td>\n",
       "    </tr>\n",
       "  </tbody>\n",
       "</table>\n",
       "<p>124 rows × 4 columns</p>\n",
       "</div>"
      ],
      "text/plain": [
       "          fecha dia_semana        categoria  venta_total\n",
       "0    2023-01-02      lunes  Fruta y verdura         4133\n",
       "1    2023-01-03     martes  Fruta y verdura         2658\n",
       "2    2023-01-04  miércoles  Fruta y verdura         3235\n",
       "3    2023-01-05     jueves  Fruta y verdura         2480\n",
       "4    2023-01-07     sábado  Fruta y verdura         6360\n",
       "..          ...        ...              ...          ...\n",
       "119  2023-05-25     jueves  Fruta y verdura         2592\n",
       "120  2023-05-26    viernes  Fruta y verdura         4995\n",
       "121  2023-05-27     sábado  Fruta y verdura         6334\n",
       "122  2023-05-29      lunes  Fruta y verdura         4238\n",
       "123  2023-05-30     martes  Fruta y verdura         2464\n",
       "\n",
       "[124 rows x 4 columns]"
      ]
     },
     "execution_count": 4,
     "metadata": {},
     "output_type": "execute_result"
    }
   ],
   "source": [
    "cat_fecha_fyv"
   ]
  },
  {
   "cell_type": "code",
   "execution_count": null,
   "metadata": {},
   "outputs": [],
   "source": []
  }
 ],
 "metadata": {
  "kernelspec": {
   "display_name": "auto_Pr-PSV",
   "language": "python",
   "name": "python3"
  },
  "language_info": {
   "codemirror_mode": {
    "name": "ipython",
    "version": 3
   },
   "file_extension": ".py",
   "mimetype": "text/x-python",
   "name": "python",
   "nbconvert_exporter": "python",
   "pygments_lexer": "ipython3",
   "version": "3.11.3"
  },
  "orig_nbformat": 4
 },
 "nbformat": 4,
 "nbformat_minor": 2
}
